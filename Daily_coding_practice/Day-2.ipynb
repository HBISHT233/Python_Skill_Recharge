{
 "cells": [
  {
   "cell_type": "markdown",
   "id": "2d885844",
   "metadata": {},
   "source": [
    "### Ques 1) Move all negative numbers to beginning and positive to end with constant extra space\n",
    "- Input: -12, 11, -13, -5, 6, -7, 5, -3, -6\n",
    "- Output: -12 -13 -5 -7 -3 -6 11 6 5"
   ]
  },
  {
   "cell_type": "code",
   "execution_count": 2,
   "id": "a3aa6a87",
   "metadata": {},
   "outputs": [
    {
     "data": {
      "text/plain": [
       "[-1, -3, -7, 2, 4, 5, 6, 8, 9]"
      ]
     },
     "execution_count": 2,
     "metadata": {},
     "output_type": "execute_result"
    }
   ],
   "source": [
    "def move(arr):\n",
    "    pos=[x for x in arr if x>=0]\n",
    "    neg=[x for x in arr if x<0]\n",
    "    arr[:]=[]\n",
    "    arr.extend(neg)\n",
    "    arr.extend(pos)\n",
    "    return arr\n",
    "\n",
    "\n",
    "arr = [ -1, 2, -3, 4, 5, 6, -7, 8, 9 ]\n",
    "move(arr)"
   ]
  },
  {
   "cell_type": "markdown",
   "id": "d10ca7a7",
   "metadata": {},
   "source": [
    "### Ques 2) Rotate Array by One\n",
    "Given an array arr, rotate the array by one position in clock-wise direction.\n",
    "\n",
    "Examples:\n",
    "\n",
    "Input: arr = [1, 2, 3, 4, 5]\n",
    "Output: [5, 1, 2, 3, 4]"
   ]
  },
  {
   "cell_type": "code",
   "execution_count": 5,
   "id": "2d7f3887",
   "metadata": {},
   "outputs": [
    {
     "data": {
      "text/plain": [
       "[5, 1, 2, 3, 4]"
      ]
     },
     "execution_count": 5,
     "metadata": {},
     "output_type": "execute_result"
    }
   ],
   "source": [
    "def rotate(arr):\n",
    "    last=arr.pop() # delete and save the last element\n",
    "    arr.insert(0,last) # insert the last element to the beginning\n",
    "    return arr\n",
    "\n",
    "arr = [1, 2, 3, 4, 5]\n",
    "rotate(arr)"
   ]
  },
  {
   "cell_type": "markdown",
   "id": "978eb220",
   "metadata": {},
   "source": [
    "### Ques 3) Kadane's Algorithm\n",
    "Given an integer array arr[]. Find the contiguous sub-array(containing at least one number) that has the maximum sum and return its sum.\n",
    "\n",
    "Examples:\n",
    "\n",
    "- Input: arr[] = [1, 2, 3, -2, 5]\n",
    "- Output: 9\n",
    "\n",
    "**Explanation: Max subarray sum is 9 of elements (1, 2, 3, -2, 5) which is a contiguous subarray.**"
   ]
  },
  {
   "cell_type": "code",
   "execution_count": 7,
   "id": "5ea7202a",
   "metadata": {},
   "outputs": [
    {
     "data": {
      "text/plain": [
       "9"
      ]
     },
     "execution_count": 7,
     "metadata": {},
     "output_type": "execute_result"
    }
   ],
   "source": [
    "def maxSubArraySum(arr):\n",
    "    current_max=arr[0]\n",
    "    final_max=arr[0]\n",
    "    for i in range(1,len(arr)):\n",
    "        current_max=max(arr[i],current_max+arr[i])\n",
    "        final_max=max(final_max,current_max)\n",
    "    return final_max\n",
    "\n",
    "arr = [1, 2, 3, -2, 5]\n",
    "maxSubArraySum(arr)"
   ]
  },
  {
   "cell_type": "markdown",
   "id": "d7bdfa46",
   "metadata": {},
   "source": [
    "Ques 4) \"A girl is participating in a multi-day gaming event. For each day, she can choose to play and earn a certain number of points. However, she cannot play on two consecutive days to avoid getting sick. Given an array points where points[i] represents the score she can earn if she plays on the i-th day (and all points are non-negative), calculate the maximum score she can achieve by the end of the event.\n",
    "\n",
    "- Input: points = [3, 2, 0, 5, 1, 1]\n",
    "- Output: 9\n",
    "\n",
    "Explanation:\n",
    "\n",
    "- Day 1: Score = 3\n",
    "- Day 2: Score = max(3, 2) = 3\n",
    "- Day 3: Score = max(3, 0 + 3) = 3 (since she doesn't play on Day 3)\n",
    "- Day 4: Score = max(3, 5 + 3) = 8 (she plays on Day 4)\n",
    "- Day 5: Score = max(8, 1 + 3) = 8\n",
    "- Day 6: Score = max(8, 1 + 8) = 9 (she plays on Day 6)"
   ]
  },
  {
   "cell_type": "code",
   "execution_count": 8,
   "id": "8c2f1d96",
   "metadata": {},
   "outputs": [
    {
     "name": "stdout",
     "output_type": "stream",
     "text": [
      "9\n"
     ]
    }
   ],
   "source": [
    "def maxScore(points):\n",
    "    n = len(points)\n",
    "    \n",
    "    # Edge cases for small arrays\n",
    "    if n == 0:\n",
    "        return 0\n",
    "    if n == 1:\n",
    "        return points[0]\n",
    "    if n == 2:\n",
    "        return max(points[0], points[1])\n",
    "    \n",
    "    # Create dp array to store maximum score up to each day\n",
    "    dp = [0] * n\n",
    "    dp[0] = points[0]\n",
    "    dp[1] = max(points[0], points[1])\n",
    "    \n",
    "    # Fill dp array using the recurrence relation\n",
    "    for i in range(2, n):\n",
    "        dp[i] = max(dp[i-1], points[i] + dp[i-2])\n",
    "        \n",
    "        #Skip the current day: Take the maximum points from the previous day (dp[i-1]).\n",
    "        \n",
    "        #Play on the current day: Add the points for the current day \n",
    "        #(points[i]) to the maximum points up to two days ago (dp[i-2]), \n",
    "        # because we can't play on consecutive days.\n",
    "    \n",
    "    # The last element of dp array will have the maximum score\n",
    "    return dp[-1]\n",
    "\n",
    "# Example usage\n",
    "points = [3, 2, 0, 5, 1, 1]\n",
    "print(maxScore(points))  # Output should be 9"
   ]
  },
  {
   "cell_type": "code",
   "execution_count": 16,
   "id": "64c375d8",
   "metadata": {},
   "outputs": [
    {
     "data": {
      "text/plain": [
       "55"
      ]
     },
     "execution_count": 16,
     "metadata": {},
     "output_type": "execute_result"
    }
   ],
   "source": [
    "# Fibonacci number\n",
    "def fib(n):\n",
    "    if n==0:\n",
    "        return 0\n",
    "    if n==1:\n",
    "        return 1\n",
    "    res=[0]*(n+1)\n",
    "    res[0]=0\n",
    "    res[1]=1\n",
    "    for i in range(2,n+1):\n",
    "        res[i]=res[i-1]+res[i-2]\n",
    "    return res[n]\n",
    "\n",
    "fib(10) # return the 10th fibonacci number"
   ]
  }
 ],
 "metadata": {
  "kernelspec": {
   "display_name": "Python 3 (ipykernel)",
   "language": "python",
   "name": "python3"
  },
  "language_info": {
   "codemirror_mode": {
    "name": "ipython",
    "version": 3
   },
   "file_extension": ".py",
   "mimetype": "text/x-python",
   "name": "python",
   "nbconvert_exporter": "python",
   "pygments_lexer": "ipython3",
   "version": "3.7.16"
  }
 },
 "nbformat": 4,
 "nbformat_minor": 5
}
