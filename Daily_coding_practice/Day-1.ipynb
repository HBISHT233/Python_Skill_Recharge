{
 "cells": [
  {
   "cell_type": "markdown",
   "id": "6abd9e57",
   "metadata": {},
   "source": [
    "### Ques 1) You are given an array of integers arr . Your task is to reverse the given array and return the reversed array.\n",
    "\n",
    "Examples:\n",
    "- Input: arr = [1, 2, 3, 4]\n",
    "- Output: [4, 3, 2, 1]\n",
    "\n",
    "- Explanation: The elements of the array are 1 2 3 4. After reversing the array, the first element goes to the last position, the second element goes to the second last position and so on. Hence, the answer is 4 3 2 1.\n",
    "\n",
    "- Input: arr = [1]\n",
    "- Output: [1]\n",
    "\n",
    "Explanation: The array has only single element, hence the reversed array is same as the original.\n",
    "Expected Time Complexity: O(n)\n",
    "Expected Space Complexity: O(1)"
   ]
  },
  {
   "cell_type": "code",
   "execution_count": 1,
   "id": "263fce71",
   "metadata": {},
   "outputs": [
    {
     "data": {
      "text/plain": [
       "[4, 3, 2, 1]"
      ]
     },
     "execution_count": 1,
     "metadata": {},
     "output_type": "execute_result"
    }
   ],
   "source": [
    "def reverseArray(arr):\n",
    "    return arr[::-1] \n",
    "arr = [1, 2, 3, 4]\n",
    "reverseArray(arr)"
   ]
  },
  {
   "cell_type": "markdown",
   "id": "42d4a5d9",
   "metadata": {},
   "source": [
    "### Ques 2) Min and Max in Array\n",
    "- Given an array arr. Your task is to find the minimum and maximum elements in the array.\n",
    "\n",
    "- Note: Return an array that contains two elements the first one will be a minimum element and the second will be a maximum of an array."
   ]
  },
  {
   "cell_type": "code",
   "execution_count": 2,
   "id": "94586c80",
   "metadata": {},
   "outputs": [
    {
     "data": {
      "text/plain": [
       "[3, 20]"
      ]
     },
     "execution_count": 2,
     "metadata": {},
     "output_type": "execute_result"
    }
   ],
   "source": [
    "def get_min_max(arr):\n",
    "    min=max=arr[0]\n",
    "    for i in range(1,len(arr)):\n",
    "        if arr[i]>max:\n",
    "            max=arr[i]\n",
    "        if arr[i]<min:\n",
    "            min=arr[i]\n",
    "    return [min,max]\n",
    "arr = [7, 10, 4, 3, 20, 15]\n",
    "get_min_max(arr)"
   ]
  },
  {
   "cell_type": "markdown",
   "id": "0e7888e1",
   "metadata": {},
   "source": [
    "### Ques 3) Kth Smallest\n",
    "Given an array arr[] and an integer k where k is smaller than the size of the array, the task is to find the kth smallest element in the given array. It is given that all array elements are distinct.\n",
    "\n",
    "Follow up: Don't solve it using the inbuilt sort function.\n",
    "\n",
    "Examples :\n",
    "\n",
    "Input: arr[] = [7, 10, 4, 3, 20, 15], k = 3\n",
    "Output:  7\n",
    "Explanation: 3rd smallest element in the given array is 7."
   ]
  },
  {
   "cell_type": "code",
   "execution_count": 3,
   "id": "d245cf67",
   "metadata": {},
   "outputs": [
    {
     "data": {
      "text/plain": [
       "15"
      ]
     },
     "execution_count": 3,
     "metadata": {},
     "output_type": "execute_result"
    }
   ],
   "source": [
    "def kthSmallest(arr,k): # Method 1\n",
    "    freq=[0]*(max(arr)+1)\n",
    "    for num in arr:\n",
    "        freq[num]+=1\n",
    "        \n",
    "    for i in range(0,len(freq)):\n",
    "        k=k-freq[i]\n",
    "        if k<=0:\n",
    "            return i\n",
    "            \n",
    "arr = [2, 3, 1, 20, 15]\n",
    "k = 4 \n",
    "kthSmallest(arr,k)"
   ]
  },
  {
   "cell_type": "code",
   "execution_count": 4,
   "id": "c40a5300",
   "metadata": {},
   "outputs": [
    {
     "data": {
      "text/plain": [
       "15"
      ]
     },
     "execution_count": 4,
     "metadata": {},
     "output_type": "execute_result"
    }
   ],
   "source": [
    "def kthSmallest(arr,k): # Method 2\n",
    "    arr.sort()\n",
    "    return arr[k-1]\n",
    "arr = [2, 3, 1, 20, 15]\n",
    "k = 4 \n",
    "kthSmallest(arr,k)"
   ]
  },
  {
   "cell_type": "markdown",
   "id": "7b07508a",
   "metadata": {},
   "source": [
    "### Ques 4) Sort 0s, 1s and 2s\n",
    "\n",
    "Given an array arr containing only 0s, 1s, and 2s. Sort the array in ascending order.\n",
    "\n",
    "Examples:\n",
    "\n",
    "Input: arr[]= [0, 2, 1, 2, 0]\n",
    "Output: 0 0 1 2 2\n",
    "Explanation: 0s 1s and 2s are segregated into ascending order."
   ]
  },
  {
   "cell_type": "code",
   "execution_count": 5,
   "id": "86e2075e",
   "metadata": {},
   "outputs": [
    {
     "data": {
      "text/plain": [
       "[0, 0, 1, 2, 2]"
      ]
     },
     "execution_count": 5,
     "metadata": {},
     "output_type": "execute_result"
    }
   ],
   "source": [
    "def sort012(arr):\n",
    "    freq=[0]*3 # since there are only 3 elements\n",
    "    for num in arr:\n",
    "        freq[num]+=1\n",
    "    \n",
    "    arr[:]=[] # clear the initial array\n",
    "    arr.extend([0]*freq[0]) # extend function dont create a new list/array while \"+\" does\n",
    "    arr.extend([1]*freq[1])\n",
    "    arr.extend([2]*freq[2])\n",
    "    return arr\n",
    "\n",
    "arr= [0, 2, 1, 2, 0]\n",
    "sort012(arr)"
   ]
  },
  {
   "cell_type": "markdown",
   "id": "6d654b4b",
   "metadata": {},
   "source": [
    "### Ques 5) Union of two arrays\n",
    "Given two arrays arr1[] and arr2[], the task is to find the number of elements in the union between these two arrays.\n",
    "\n",
    "The Union of the two arrays can be defined as the set containing distinct elements from both arrays. If there are repetitions, then only one element occurrence should be there in the union.\n",
    "\n",
    "Note: Elements are not necessarily distinct.\n",
    "\n",
    "Examples\n",
    "\n",
    "- Input: arr1[] = [1, 2, 3, 4, 5], arr2[] = [1, 2, 3]\n",
    "- Output: 5\n",
    "- Explanation: 1, 2, 3, 4 and 5 are the elements which comes in the union setof both arrays. So count is 5."
   ]
  },
  {
   "cell_type": "code",
   "execution_count": 8,
   "id": "cba015dc",
   "metadata": {},
   "outputs": [
    {
     "data": {
      "text/plain": [
       "5"
      ]
     },
     "execution_count": 8,
     "metadata": {},
     "output_type": "execute_result"
    }
   ],
   "source": [
    "def doUnion(arr1,arr2):\n",
    "    temp=set(arr1+arr2)\n",
    "    return len(temp)\n",
    "\n",
    "arr1 = [1, 2, 3, 4, 5]\n",
    "arr2 = [1, 2, 3]\n",
    "doUnion(arr1,arr2)"
   ]
  }
 ],
 "metadata": {
  "kernelspec": {
   "display_name": "Python 3 (ipykernel)",
   "language": "python",
   "name": "python3"
  },
  "language_info": {
   "codemirror_mode": {
    "name": "ipython",
    "version": 3
   },
   "file_extension": ".py",
   "mimetype": "text/x-python",
   "name": "python",
   "nbconvert_exporter": "python",
   "pygments_lexer": "ipython3",
   "version": "3.7.16"
  }
 },
 "nbformat": 4,
 "nbformat_minor": 5
}
