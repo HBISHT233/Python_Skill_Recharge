{
 "cells": [
  {
   "cell_type": "code",
   "execution_count": 1,
   "id": "ae2ac62d",
   "metadata": {},
   "outputs": [
    {
     "name": "stdout",
     "output_type": "stream",
     "text": [
      "hello world !!! Myself Himanshu\n",
      "10\n"
     ]
    }
   ],
   "source": [
    "print(\"hello world !!!\", \"Myself Himanshu\")\n",
    "print(35-25)"
   ]
  },
  {
   "cell_type": "code",
   "execution_count": 87,
   "id": "70e54bf1",
   "metadata": {},
   "outputs": [
    {
     "name": "stdout",
     "output_type": "stream",
     "text": [
      "20\n",
      "20.310000000000002\n",
      "20\n",
      "1010\n"
     ]
    }
   ],
   "source": [
    "a=str(10)\n",
    "b=10\n",
    "print(int(a)+10)\n",
    "print(int(a)+10.31)\n",
    "print(int(a)+b)\n",
    "print(a+str(10))"
   ]
  },
  {
   "cell_type": "code",
   "execution_count": 110,
   "id": "5d278dd3",
   "metadata": {},
   "outputs": [
    {
     "name": "stdout",
     "output_type": "stream",
     "text": [
      "Enter a number: 21\n",
      "<class 'int'>\n",
      "<class 'str'>\n",
      "<class 'str'>\n",
      "<class 'bool'>\n"
     ]
    }
   ],
   "source": [
    "a=10\n",
    "b=\"hello\" # single/Double/tripple quotes all are allowed\n",
    "c=input(\"Enter a number: \") # by default input is string only\n",
    "check=True # False [first letter is capital]\n",
    "print(type(a))\n",
    "print(type(b))\n",
    "print(type(c))\n",
    "print(type(check))"
   ]
  },
  {
   "cell_type": "code",
   "execution_count": 4,
   "id": "ff508652",
   "metadata": {},
   "outputs": [
    {
     "name": "stdout",
     "output_type": "stream",
     "text": [
      "<class 'NoneType'>\n"
     ]
    }
   ],
   "source": [
    "'''NoneType in python\n",
    "#uses\n",
    "1. Default Return Value for Functions\n",
    "2. Placeholder for Optional Arguments \n",
    "def connect(hostname, port=None):\n",
    "    if port is None:\n",
    "        port = 8080\n",
    "    print(f\"Connecting to {hostname} on port {port}\")\n",
    "\n",
    "connect(\"localhost\")  # Default port 8080 will be used\n",
    "\n",
    "3. Initializing variables\n",
    "4. Representing the end of a list\n",
    "\n",
    "\n",
    "'''\n",
    "a=None\n",
    "print(type(a))"
   ]
  },
  {
   "cell_type": "markdown",
   "id": "275d6fe1",
   "metadata": {},
   "source": [
    "# Note: Python is case sensitive"
   ]
  },
  {
   "cell_type": "code",
   "execution_count": 5,
   "id": "1fe5cca0",
   "metadata": {},
   "outputs": [
    {
     "name": "stdout",
     "output_type": "stream",
     "text": [
      "Hello\n"
     ]
    }
   ],
   "source": [
    "\"\"\"\n",
    "This is a multi line comment\n",
    "using 3 double quotes\n",
    "\"\"\"\n",
    "'''\n",
    "This is also a multi line comment\n",
    "using 3 single quotes\n",
    "'''\n",
    "print(\"Hello\")"
   ]
  },
  {
   "cell_type": "code",
   "execution_count": 6,
   "id": "6759266b",
   "metadata": {},
   "outputs": [
    {
     "name": "stdout",
     "output_type": "stream",
     "text": [
      "<class 'int'>\n",
      "<class 'int'>\n",
      "<class 'float'>\n",
      "0\n",
      "100\n",
      "False\n",
      "True\n",
      "True\n",
      "False\n"
     ]
    }
   ],
   "source": [
    "a=10\n",
    "b=2\n",
    "c=a/2 # division operator always return a float value\n",
    "print(type(a))\n",
    "print(type(b))\n",
    "print(type(c))\n",
    "\n",
    "\"\"\"\n",
    "% = modulo = remainder operator\n",
    "** = power operator e.g. 5**2 = 5^2 =25\n",
    "\"\"\"\n",
    "print(a%b)\n",
    "print(a**b)\n",
    "\n",
    "print(a==b) # return a boolean value\n",
    "print(a!=b)\n",
    "print(a>b)\n",
    "print(a<b)"
   ]
  },
  {
   "cell_type": "markdown",
   "id": "1ebf11a5",
   "metadata": {},
   "source": [
    "# Strings"
   ]
  },
  {
   "cell_type": "code",
   "execution_count": 111,
   "id": "22524810",
   "metadata": {},
   "outputs": [
    {
     "name": "stdout",
     "output_type": "stream",
     "text": [
      "Enter a: 10\n",
      "Type of a is <class 'str'>\n",
      "Enter b: 21\n",
      "Type of b is <class 'int'>\n"
     ]
    }
   ],
   "source": [
    "a=input(\"Enter a: \")\n",
    "print(\"Type of a is\",type(a))\n",
    "b=int(input(\"Enter b: \"))\n",
    "print(\"Type of b is\",type(b))"
   ]
  },
  {
   "cell_type": "code",
   "execution_count": 9,
   "id": "d1c81790",
   "metadata": {},
   "outputs": [
    {
     "name": "stdout",
     "output_type": "stream",
     "text": [
      "str1 is of type <class 'str'> This is a string\n",
      "str2 is of type <class 'str'> This is also a string\n",
      "str3 is of type <class 'str'> Another string\n",
      "str4 is of type <class 'str'> same string\n"
     ]
    }
   ],
   "source": [
    "str1=\"This is a string\"\n",
    "str2='This is also a string'\n",
    "str3='''Another string'''\n",
    "str4=\"\"\"same string\"\"\"\n",
    "for i in range(1,5):\n",
    "    temp=\"str\"+str(i)\n",
    "    print(temp,\"is of type\",type(globals()[temp]),globals()[temp])\n",
    "    #globals()[var_name] dynamically creates a global variable with the name\n",
    "    # you can also use locals()"
   ]
  },
  {
   "cell_type": "code",
   "execution_count": 10,
   "id": "a66b1feb",
   "metadata": {},
   "outputs": [
    {
     "name": "stdout",
     "output_type": "stream",
     "text": [
      "h\n",
      "hello this\n",
      "hello this\n",
      " this is a string\n",
      "gnirts a si siht olleh\n",
      "g\n",
      "h\n",
      "hello t\n"
     ]
    }
   ],
   "source": [
    "#String indexing\n",
    "\n",
    "str1=\"hello this is a string\"\n",
    "print(str1[0])\n",
    "\n",
    "#note: String does not support item assignment..they are read only\n",
    "\n",
    "\n",
    "#String Slicing\n",
    "\n",
    "print(str1[0:10])\n",
    "print(str1[:10]) # same as [0:10]\n",
    "print(str1[5:])\n",
    "print(str1[::-1]) # this will print the string in reverse\n",
    "\n",
    "#negative indexing\n",
    "\n",
    "print(str1[-1]) # last element of the original string\n",
    "print(str1[-len(str1)]) # first element of the original string\n",
    "print(str1[-len(str1):-15])"
   ]
  },
  {
   "cell_type": "markdown",
   "id": "8cc6f3a7",
   "metadata": {},
   "source": [
    "## Traversing a string"
   ]
  },
  {
   "cell_type": "code",
   "execution_count": 26,
   "id": "2d7129fc",
   "metadata": {},
   "outputs": [
    {
     "name": "stdout",
     "output_type": "stream",
     "text": [
      "h e l l o 1 2 3 \n",
      "h e l l o 1 2 3 \n",
      "3 2 1 o l l e h \n",
      "h e l l o 1 2 3  \n",
      "3 2 1 o l l e h "
     ]
    }
   ],
   "source": [
    "#method 1 using index\n",
    "s=\"hello123\"\n",
    "for i in range(len(s)): # len() is an inbuilt function to find the length of string\n",
    "    print(s[i],end=\" \")\n",
    "print(\"\")\n",
    "\n",
    "i=0\n",
    "while i<len(s): # forward traversing\n",
    "    print(s[i],end=\" \")\n",
    "    i+=1\n",
    "\n",
    "print(\"\")\n",
    "\n",
    "i=-1\n",
    "while i>=-len(s): # reverse traverssing\n",
    "    print(s[i],end=\" \")\n",
    "    i-=1\n",
    "\n",
    "print(\"\")\n",
    "\n",
    "#method 2 using slice operator\n",
    "\n",
    "\n",
    "for num in s[:]:   # forward traversing\n",
    "    print(num,end=\" \")\n",
    "print(\" \")\n",
    "\n",
    "for num in s[::-1]:\n",
    "    print(num,end=\" \")"
   ]
  },
  {
   "cell_type": "markdown",
   "id": "f4a94bb3",
   "metadata": {},
   "source": [
    "## Mathematical operators in string"
   ]
  },
  {
   "cell_type": "code",
   "execution_count": 31,
   "id": "7bb0b6ea",
   "metadata": {},
   "outputs": [
    {
     "name": "stdout",
     "output_type": "stream",
     "text": [
      "hellohello\n",
      "hellohello\n"
     ]
    }
   ],
   "source": [
    "s=\"hello\"\n",
    "print(s*2) # multiplying the array with duplicate the string\n",
    "print(s+s)"
   ]
  },
  {
   "cell_type": "markdown",
   "id": "d1d12aca",
   "metadata": {},
   "source": [
    "## Membership operator in string"
   ]
  },
  {
   "cell_type": "code",
   "execution_count": 27,
   "id": "ce6f2a30",
   "metadata": {},
   "outputs": [
    {
     "name": "stdout",
     "output_type": "stream",
     "text": [
      "True\n",
      "False\n"
     ]
    }
   ],
   "source": [
    "s='hello'\n",
    "print('o' in s)\n",
    "\n",
    "print('a' in s)"
   ]
  },
  {
   "cell_type": "markdown",
   "id": "2c3ad7ea",
   "metadata": {},
   "source": [
    "## String Comaprison operator"
   ]
  },
  {
   "cell_type": "code",
   "execution_count": 33,
   "id": "c945d13a",
   "metadata": {},
   "outputs": [
    {
     "name": "stdout",
     "output_type": "stream",
     "text": [
      "True\n",
      "False\n"
     ]
    }
   ],
   "source": [
    "# Less than (<): Meaning: Checks if the first string comes before the second string lexicographically.\n",
    "print(\"apple\" < \"banana\")  # True (because 'a' comes before 'b' in Unicode)\n",
    "print(\"banana\" < \"apple\")  # False"
   ]
  },
  {
   "cell_type": "markdown",
   "id": "9c593552",
   "metadata": {},
   "source": [
    "## Remove space and other characters from the end/beginning of the string\n",
    "\n",
    "### 1. rstrip() ===>To remove blank spaces present at end of the string (i.e.,right hand side)\n",
    "\n",
    "### 2. lstrip()===>To remove blank spaces present at the beginning of the string (i.e.,left hand side)\n",
    "\n",
    "### 3. strip() ==>To remove spaces both sides"
   ]
  },
  {
   "cell_type": "code",
   "execution_count": 35,
   "id": "fbe7c8ec",
   "metadata": {},
   "outputs": [
    {
     "name": "stdout",
     "output_type": "stream",
     "text": [
      "  Hello World!\n",
      "Hello World!   \n",
      "Hello World!\n",
      "!!!Hello World\n",
      "Hello World!!!\n",
      "Hello World\n"
     ]
    }
   ],
   "source": [
    "text = \"  Hello World!   \"\n",
    "print(text.rstrip())  # Output: \"  Hello World!\"\n",
    "print(text.lstrip())  # Output: \"Hello World!   \"\n",
    "print(text.strip())  # Output: \"Hello World!\"\n",
    "\n",
    "# to remove other characters from\n",
    "text = \"!!!Hello World!!!\"\n",
    "print(text.rstrip(\"!\"))  # Output: \"!!!Hello World\"\n",
    "print(text.lstrip(\"!\"))  # Output: \"Hello World!!!\"\n",
    "print(text.strip(\"!\"))   # Output: \"Hello World\""
   ]
  },
  {
   "cell_type": "markdown",
   "id": "9422cf80",
   "metadata": {},
   "source": [
    "## Finding substrings\n",
    "     For forward direction:                          For backward direction:\n",
    "        1. find()                                          1. rfind()\n",
    "        2. index()                                         2. rindex()\n",
    "Note: These functions returns the first index of the matching substring in the main string\n",
    "\n",
    "### By default find() method can search total string. We can also specify the boundaries to search.\n",
    "    s.find(substring,begin,end) ----[begin,end]\n",
    "        It will always search from begin index to end-1 index.\n",
    "        \n",
    "## Finding sub-strinig using index method\n",
    "     index() method:\n",
    "index() method is exactly same as find() method except that if the specified substring is not available then\n",
    "we will get ValueError"
   ]
  },
  {
   "cell_type": "code",
   "execution_count": 51,
   "id": "37083a77",
   "metadata": {},
   "outputs": [
    {
     "name": "stdout",
     "output_type": "stream",
     "text": [
      "9\n",
      "-1\n",
      "3\n",
      "21\n",
      "-1\n",
      "9\n",
      "not found\n"
     ]
    }
   ],
   "source": [
    "s=\"Learning Python is very easy\"\n",
    "print(s.find(\"Python\")) # 9\n",
    "print(s.find(\"Java\")) # -1\n",
    "print(s.find(\"r\")) # 3\n",
    "print(s.rfind(\"r\")) # 21\n",
    "print(s.find(\"is\",0,10)) # will return -1 since \"is\" is not between [0,10]\n",
    "\n",
    "# using index method\n",
    "print(s.index(\"Python\",0,15)) #9\n",
    "\n",
    "try:\n",
    "    temp=s.index(\"java\") # if not found then it will return an error\n",
    "except ValueError:\n",
    "    print(\"not found\")\n",
    "else:\n",
    "    print(found)"
   ]
  },
  {
   "cell_type": "markdown",
   "id": "3b0bb21c",
   "metadata": {},
   "source": [
    "## Counting substring in the given String:\n",
    "### 1. s.count(substring) ==> It will search through out the string\n",
    "### 2. s.count(substring, begin, end) ===> It will search from begin index to end-1 index"
   ]
  },
  {
   "cell_type": "code",
   "execution_count": 53,
   "id": "728bde04",
   "metadata": {},
   "outputs": [
    {
     "name": "stdout",
     "output_type": "stream",
     "text": [
      "6\n",
      "4\n",
      "2\n"
     ]
    }
   ],
   "source": [
    "s=\"abcabcabcabcadda\"\n",
    "print(s.count('a')) #6\n",
    "print(s.count('ab')) #4\n",
    "print(s.count('a',3,7)) #2"
   ]
  },
  {
   "cell_type": "code",
   "execution_count": 61,
   "id": "8c9f17f3",
   "metadata": {},
   "outputs": [
    {
     "name": "stdout",
     "output_type": "stream",
     "text": [
      "[0, 2, 5, 8]\n",
      "we got \"ab\" 4 times in \"abcabcabcabcadda\"\n"
     ]
    }
   ],
   "source": [
    "# Ques) Write a Python Program to display all positions of substring in a given main string.\n",
    "s=\"abcabcabcabcadda\"\n",
    "sub=\"ab\"\n",
    "i=0\n",
    "match=[]\n",
    "while i<len(s):\n",
    "    loc=s.find(sub,i,len(s))\n",
    "    if loc!=-1: # means we find the sub-string\n",
    "        match.append(i)\n",
    "        i=loc+len(sub)\n",
    "    else: \n",
    "        break\n",
    "print(match)\n",
    "print(f\"we got \\\"{sub}\\\" {len(match)} times in \\\"{s}\\\"\")"
   ]
  },
  {
   "cell_type": "markdown",
   "id": "8682132a",
   "metadata": {},
   "source": [
    "## Replacing a string with another string:\n",
    "\n",
    "s.replace(oldstring,newstring)\n",
    "\n",
    "### We know strings are immutable therefore using replace function will create a new object \n",
    "### meaning it wont override on the old object"
   ]
  },
  {
   "cell_type": "code",
   "execution_count": 64,
   "id": "490d952d",
   "metadata": {},
   "outputs": [
    {
     "name": "stdout",
     "output_type": "stream",
     "text": [
      "Learning Python is very difficult is available at : 2129989932304\n",
      "Learning Python is very easy is available at : 2129988265024\n"
     ]
    }
   ],
   "source": [
    "s=\"Learning Python is very difficult\"\n",
    "print(s,\"is available at :\",id(s))\n",
    "s=s.replace(\"difficult\",\"easy\")\n",
    "print(s,\"is available at :\",id(s))"
   ]
  },
  {
   "cell_type": "markdown",
   "id": "3bd15a6c",
   "metadata": {},
   "source": [
    "## Splitting of Strings:\n",
    "    We can split the given string according to specified seperator by using split() method.\n",
    "    We can split the given string according to specified seperator in reverse direction by using rsplit() method\n",
    "    \n",
    "    Note: There is no lsplit()"
   ]
  },
  {
   "cell_type": "code",
   "execution_count": 73,
   "id": "e7d21da8",
   "metadata": {},
   "outputs": [
    {
     "name": "stdout",
     "output_type": "stream",
     "text": [
      "l = ['hello', 'this', 'is', 'python'] and is of type \"<class 'list'>\"\n",
      "['hello thi', ' i', '   python']\n",
      "['hello', 'this is   python']\n"
     ]
    }
   ],
   "source": [
    "s=\"hello this is   python\"\n",
    "l=s.split()\n",
    "print(f\"l = {l} and is of type \\\"{type(l)}\\\"\")\n",
    "print(s.split('s')) # split using other separator [deafault = blank space]\n",
    "\n",
    "# you can also define maximum splits that you want\n",
    "print(s.split(' ',1))"
   ]
  },
  {
   "cell_type": "markdown",
   "id": "c6b0be06",
   "metadata": {},
   "source": [
    "## joining a string\n",
    "\n",
    "    We can join a group of strings(list or tuple) with respect to the given seperator\n",
    "   ### s=seperator.join(group of strings)"
   ]
  },
  {
   "cell_type": "code",
   "execution_count": 77,
   "id": "35f58b43",
   "metadata": {},
   "outputs": [
    {
     "name": "stdout",
     "output_type": "stream",
     "text": [
      "sunny-bunny-chinny\n",
      "sunnybunnychinny\n",
      "sunny:::bunny:::chinny\n"
     ]
    }
   ],
   "source": [
    "t=('sunny','bunny','chinny')\n",
    "print('-'.join(t))\n",
    "print(''.join(t))\n",
    "print(':::'.join(t))"
   ]
  },
  {
   "cell_type": "markdown",
   "id": "861806bb",
   "metadata": {},
   "source": [
    "## Changing case of a String:\n",
    "### 1. upper()===>To convert all characters to upper case\n",
    "### 2. lower() ===>To convert all characters to lower case\n",
    "### 3. swapcase()===>converts all lower case characters to upper case and all upper case characters to lower case\n",
    "### 4. title() ===>To convert all characters to title case. i.e first character in every word should be upper case and all remaining characters should be in lower case.\n",
    "### 5. capitalize() ==>Only first character will be converted to upper case and all remaining characters can beconverted to lower case."
   ]
  },
  {
   "cell_type": "code",
   "execution_count": 80,
   "id": "72eaf25b",
   "metadata": {},
   "outputs": [
    {
     "name": "stdout",
     "output_type": "stream",
     "text": [
      "LEARNING PYTHON IS VERY EASY\n",
      "learning python is very easy\n",
      "LEARNING pYTHON IS VERY eASY\n",
      "Learning Python Is Very Easy\n",
      "Learning python is very easy\n"
     ]
    }
   ],
   "source": [
    "s='learning Python is very Easy'\n",
    "print(s.upper())\n",
    "print(s.lower())\n",
    "print(s.swapcase())\n",
    "print(s.title()) #first letter of each word will be capitalized\n",
    "print(s.capitalize())"
   ]
  },
  {
   "cell_type": "markdown",
   "id": "e79e49e9",
   "metadata": {},
   "source": [
    "## Checking starting and ending part of the string:"
   ]
  },
  {
   "cell_type": "code",
   "execution_count": 84,
   "id": "42cb8887",
   "metadata": {},
   "outputs": [
    {
     "name": "stdout",
     "output_type": "stream",
     "text": [
      "True\n",
      "False\n",
      "True\n",
      "False\n",
      "True\n"
     ]
    }
   ],
   "source": [
    "test=\"aabbccdd\"\n",
    "print(test.endswith(\"dd\"))\n",
    "print(test.endswith(\"e\"))\n",
    "\n",
    "s='learning Python is very easy'\n",
    "print(s.startswith('learning'))\n",
    "print(s.endswith('learning'))\n",
    "print(s.endswith('easy'))"
   ]
  },
  {
   "cell_type": "markdown",
   "id": "96366a37",
   "metadata": {},
   "source": [
    "## To check type of characters present in a string:\n",
    "### 1) isalnum(): Returns True if all characters are alphanumeric( a to z , A to Z ,0 to9 )\n",
    "### 2) isalpha(): Returns True if all characters are only alphabet symbols(a to z,A to Z)\n",
    "### 3) isdigit(): Returns True if all characters are digits only( 0 to 9)\n",
    "### 4) islower(): Returns True if all characters are lower case alphabet symbols\n",
    "### 5) isupper(): Returns True if all characters are upper case aplhabet symbols\n",
    "### 6) istitle(): Returns True if string is in title case\n",
    "### 7) isspace(): Returns True if string contains only spaces\n",
    "Note : We can't pass any arguments to these functions."
   ]
  },
  {
   "cell_type": "code",
   "execution_count": 108,
   "id": "81e0b0da",
   "metadata": {},
   "outputs": [
    {
     "name": "stdout",
     "output_type": "stream",
     "text": [
      "chr(97) = a\n",
      "chr(65) = A\n",
      "ord('a') = 97\n",
      "ord('A') = 65\n"
     ]
    }
   ],
   "source": [
    "# chr(unicode)===>The corresponding character\n",
    "# ord(character)===>The corresponding unicode value\n",
    "\n",
    "print(f\"chr(97) = {chr(97)}\")\n",
    "print(f\"chr(65) = {chr(65)}\")\n",
    "\n",
    "print(f\"ord('a') = {ord('a')}\")\n",
    "print(f\"ord('A') = {ord('A')}\")\n"
   ]
  },
  {
   "cell_type": "markdown",
   "id": "abde8344",
   "metadata": {},
   "source": [
    "# Conditional Statement"
   ]
  },
  {
   "cell_type": "code",
   "execution_count": 12,
   "id": "837a975a",
   "metadata": {},
   "outputs": [
    {
     "name": "stdout",
     "output_type": "stream",
     "text": [
      "Attained legal age\n"
     ]
    }
   ],
   "source": [
    "age=18\n",
    "if(age >=18):\n",
    "    print(\"Attained legal age\")\n",
    "else:\n",
    "    print(\"Still a minor\")"
   ]
  },
  {
   "cell_type": "code",
   "execution_count": 97,
   "id": "2d2f0f77",
   "metadata": {},
   "outputs": [
    {
     "name": "stdout",
     "output_type": "stream",
     "text": [
      "Enter your makrs : 65\n",
      "Your final grade is D\n"
     ]
    }
   ],
   "source": [
    "def find_grade(x):\n",
    "    if(x>=90):\n",
    "        return \"A\"\n",
    "    elif(x>=80 and x<90):\n",
    "        return \"B\"\n",
    "    elif(x>=70 and x<80):\n",
    "        return \"C\"\n",
    "    else:\n",
    "        return \"D\"\n",
    "    \n",
    "x=int(input(\"Enter your makrs : \"))\n",
    "print(\"Your final grade is\",find_grade(x))"
   ]
  },
  {
   "cell_type": "code",
   "execution_count": 98,
   "id": "c2f251c1",
   "metadata": {},
   "outputs": [
    {
     "name": "stdout",
     "output_type": "stream",
     "text": [
      "Eneter a number to check: 21\n",
      "Odd\n"
     ]
    }
   ],
   "source": [
    "#check odd or even\n",
    "a=int(input(\"Eneter a number to check: \"))\n",
    "if(a%2 == 0):\n",
    "    print(\"even\")\n",
    "else:\n",
    "    print(\"Odd\")"
   ]
  },
  {
   "cell_type": "code",
   "execution_count": 99,
   "id": "c92b8722",
   "metadata": {},
   "outputs": [
    {
     "name": "stdout",
     "output_type": "stream",
     "text": [
      "Enter the 1st number 12\n",
      "Enter the 2nd number 45\n",
      "Enter the 3rd number 10\n",
      "b is largest 45\n"
     ]
    }
   ],
   "source": [
    "#greatest of three number\n",
    "a=int(input(\"Enter the 1st number \"))\n",
    "b=int(input(\"Enter the 2nd number \"))\n",
    "c=int(input(\"Enter the 3rd number \"))\n",
    "\n",
    "if(a>=b and a>=c):\n",
    "    print(\"a is largest\",a)\n",
    "elif(b>=a and b>=c):\n",
    "    print(\"b is largest\",b)\n",
    "else:\n",
    "    print(\"c is largest\",c)"
   ]
  },
  {
   "cell_type": "markdown",
   "id": "049a1364",
   "metadata": {},
   "source": [
    "# List and Tuples"
   ]
  },
  {
   "cell_type": "code",
   "execution_count": 16,
   "id": "df4acee1",
   "metadata": {},
   "outputs": [
    {
     "name": "stdout",
     "output_type": "stream",
     "text": [
      "Length of list1 is  3\n",
      "a is of type <class 'str'>\n",
      "10 is of type <class 'int'>\n",
      "b is of type <class 'str'>\n",
      "b\n",
      "a\n",
      "['b', 10, 'a']\n",
      "['b', 10, 'a']\n"
     ]
    }
   ],
   "source": [
    "list1=[\"a\",10,\"b\"] # list can store multiple data type in once\n",
    "length=len(list1)\n",
    "print(\"Length of list1 is \",length)\n",
    "for i in range (0,length):\n",
    "    print(list1[i],\"is of type\",type(list1[i]))\n",
    "\n",
    "print(list1[-1]) # List also allow negative indexing\n",
    "print(list1[-length])\n",
    "\n",
    "#Stings are Mutubale but List is Mutable\n",
    "print(list1[::-1]) # reverse the list\n",
    "print(list1[-1:-length-1:-1])"
   ]
  },
  {
   "cell_type": "markdown",
   "id": "04fb6c94",
   "metadata": {},
   "source": [
    "# list Methods\n",
    "\n",
    "\n",
    "\n",
    "### list.append(4) #adds one element at the end\n",
    "\n",
    "### list.sort( ) #sorts in ascending order\n",
    "\n",
    "### list.sort( reverse=True ) #sorts in descending order\n",
    "\n",
    "### list.reverse( ) #reverses list\n",
    "\n",
    "### list.insert( idx, el ) #insert element at index\n",
    "        Note: One important thing about inser if..if wr give an higher index > length of array\n",
    "                then the insert function will act like append\n",
    "                arr=[3, 2, 6, 4, 3, 2, 1]\n",
    "                arr.insert(10,-7)  -----> we can see index 10 is out of the bounds\n",
    "                print(arr)\n",
    "                [3, 2, 6, 4, 3, 2, 1, -7]\n",
    "                \n",
    "\n",
    "### list.pop(idx) #removes element at idx\n",
    "\n",
    "### list.count(value) #Return the number of times the value  appears in the list"
   ]
  },
  {
   "cell_type": "code",
   "execution_count": 17,
   "id": "18b50e61",
   "metadata": {},
   "outputs": [
    {
     "name": "stdout",
     "output_type": "stream",
     "text": [
      "1\n",
      "[-1, 1, 1, 2, 3]\n",
      "[3, 2, 1, 1, -1]\n",
      "[3, 4, 2, 1, 1, -1]\n",
      "2\n",
      "0\n"
     ]
    }
   ],
   "source": [
    "list1=[2,1,3,1]\n",
    "list1.append(-1)\n",
    "print(list1[3])\n",
    "list1.sort() # sorting and saving the list\n",
    "print(list1)\n",
    "list1.sort(reverse=True)\n",
    "print(list1)\n",
    "list1.insert(1,4) # <index,value>\n",
    "print(list1)\n",
    "\n",
    "print(list1.count(1)) #Number of times int<1> occurs in the list\n",
    "print(list1.count(-10)) # returb zero if not found"
   ]
  },
  {
   "cell_type": "code",
   "execution_count": 18,
   "id": "4fc5162a",
   "metadata": {},
   "outputs": [
    {
     "name": "stdout",
     "output_type": "stream",
     "text": [
      "['aa', 'ab', 'ba', 'ac', 'bc', 'bb']\n",
      "['aa', 'ab', 'ac', 'ba', 'bb', 'bc']\n"
     ]
    }
   ],
   "source": [
    "#list of strings sorting\n",
    "list1=[\"aa\",\"ab\",\"ba\",\"ac\",\"bc\",\"bb\"]\n",
    "print(list1)\n",
    "list1.sort()\n",
    "print(list1)"
   ]
  },
  {
   "cell_type": "raw",
   "id": "f993e516",
   "metadata": {},
   "source": [
    "Here's a table that summarizes the key differences between **lists** and **tuples** in Python:\n",
    "\n",
    "| Feature                  | List                                          | Tuple                    |\n",
    "|--------------------------|-----------------------------------------------|--------------------------|\n",
    "| **Mutability**           | Mutable (can be changed)                      | Immutable (cannot be changed) |\n",
    "\n",
    "| **Syntax**               | `[1, 2, 3]`                                   | `(1, 2, 3)`              |\n",
    "\n",
    "| **Performance**          | Slower due to mutability                      | Faster due to immutability |\n",
    "\n",
    "| **Methods Available**    | Many (e.g., `append()`, `remove()`, `sort()`) | Limited (`count()`, `index()`) |\n",
    "\n",
    "| **Memory Usage**         | Larger                                        | Smaller                  |\n",
    "\n",
    "| **Use Case**             | Use when data changes                         | Use for fixed, constant data |\n",
    "\n",
    "| **Iteration Speed**      | Slower                                        | Faster                   |\n",
    "\n",
    "| **Hashable**             | No (cannot be used as dictionary keys)        | Yes (if all elements are hashable) |\n",
    "\n",
    "| **Modification**         | Elements can be added, removed, or changed    | Cannot modify elements |\n",
    "\n",
    "| **Nested Structures**    | Can contain other lists                       | Can contain other tuples  |\n",
    "\n",
    "| **Element Addition**     | Possible (`append()`, `insert()`)             | Not possible (must create a new tuple) |\n",
    "\n",
    "| **Indexing and Slicing** | Supported                                     | Supported                |\n",
    "\n",
    "| **Preferred For**        | When you need to modify data frequently       | When you need to protect data from modification |\n",
    "\n",
    "This table offers a quick overview of the similarities and differences between lists and tuples in Python."
   ]
  },
  {
   "cell_type": "code",
   "execution_count": 19,
   "id": "a2fcf230",
   "metadata": {},
   "outputs": [
    {
     "name": "stdout",
     "output_type": "stream",
     "text": [
      "<class 'tuple'>\n",
      "2\n",
      "<class 'int'>\n",
      "<class 'tuple'>\n"
     ]
    }
   ],
   "source": [
    "#tuple [immutable = Cannot be changed]\n",
    "tup1=(1,1,2,2,3,3,4,4)\n",
    "print(type(tup1))\n",
    "print(tup1[2])\n",
    "\n",
    "#To Create a single value Tuple\n",
    "tup2=(1)\n",
    "print(type(tup2))\n",
    "tup2=(1,) # add a comma at the end \n",
    "print(type(tup2))"
   ]
  },
  {
   "cell_type": "markdown",
   "id": "2df77c6b",
   "metadata": {},
   "source": [
    "# Tuple Methods\n",
    "\n",
    "### tup.index(el) # returns index of 1st occurence\n",
    "\n",
    "### tup.count(el) # Counts total occurence"
   ]
  },
  {
   "cell_type": "markdown",
   "id": "48b05201",
   "metadata": {},
   "source": [
    "l=[]\n",
    "l.append(int(input(\"enter 1st number: \")))\n",
    "l.append(int(input(\"enter 2nd number: \")))\n",
    "l.append(int(input(\"enter 3rd number: \")))\n",
    "print(\"original list = \",l)\n",
    "l.sort()\n",
    "print(\"sorted list = \",l)"
   ]
  },
  {
   "cell_type": "code",
   "execution_count": 88,
   "id": "026951da",
   "metadata": {},
   "outputs": [
    {
     "ename": "AttributeError",
     "evalue": "'list' object has no attribute 'split'",
     "output_type": "error",
     "traceback": [
      "\u001b[1;31m---------------------------------------------------------------------------\u001b[0m",
      "\u001b[1;31mAttributeError\u001b[0m                            Traceback (most recent call last)",
      "\u001b[1;32m<ipython-input-88-deaddae7621b>\u001b[0m in \u001b[0;36m<module>\u001b[1;34m\u001b[0m\n\u001b[0;32m     26\u001b[0m \u001b[1;31m# programm to check if the list contains a palindrom of elements\u001b[0m\u001b[1;33m\u001b[0m\u001b[1;33m\u001b[0m\u001b[1;33m\u001b[0m\u001b[0m\n\u001b[0;32m     27\u001b[0m \u001b[0mtemp\u001b[0m\u001b[1;33m=\u001b[0m\u001b[1;33m[\u001b[0m\u001b[1;36m1\u001b[0m\u001b[1;33m,\u001b[0m\u001b[1;36m2\u001b[0m\u001b[1;33m,\u001b[0m\u001b[1;36m3\u001b[0m\u001b[1;33m,\u001b[0m\u001b[1;36m2\u001b[0m\u001b[1;33m,\u001b[0m\u001b[1;36m1\u001b[0m\u001b[1;33m]\u001b[0m\u001b[1;33m\u001b[0m\u001b[1;33m\u001b[0m\u001b[0m\n\u001b[1;32m---> 28\u001b[1;33m \u001b[0ml\u001b[0m \u001b[1;33m=\u001b[0m \u001b[0mlist\u001b[0m\u001b[1;33m(\u001b[0m\u001b[0mmap\u001b[0m\u001b[1;33m(\u001b[0m\u001b[0mint\u001b[0m\u001b[1;33m,\u001b[0m \u001b[0mtemp\u001b[0m\u001b[1;33m.\u001b[0m\u001b[0msplit\u001b[0m\u001b[1;33m(\u001b[0m\u001b[1;34m','\u001b[0m\u001b[1;33m)\u001b[0m\u001b[1;33m)\u001b[0m\u001b[1;33m)\u001b[0m\u001b[1;33m\u001b[0m\u001b[1;33m\u001b[0m\u001b[0m\n\u001b[0m\u001b[0;32m     29\u001b[0m \u001b[0mprint\u001b[0m\u001b[1;33m(\u001b[0m\u001b[0ml\u001b[0m\u001b[1;33m)\u001b[0m\u001b[1;33m\u001b[0m\u001b[1;33m\u001b[0m\u001b[0m\n\u001b[0;32m     30\u001b[0m \u001b[0mprint\u001b[0m\u001b[1;33m(\u001b[0m\u001b[0ml\u001b[0m\u001b[1;33m[\u001b[0m\u001b[1;36m0\u001b[0m\u001b[1;33m]\u001b[0m\u001b[1;33m)\u001b[0m\u001b[1;33m\u001b[0m\u001b[1;33m\u001b[0m\u001b[0m\n",
      "\u001b[1;31mAttributeError\u001b[0m: 'list' object has no attribute 'split'"
     ]
    }
   ],
   "source": [
    "def check_pal(a):\n",
    "    length=len(a)\n",
    "    flag=0\n",
    "    for i in range(0,int(length/2)+1):\n",
    "        if(a[i]!=a[-1-i]):\n",
    "            print(\"Not a palindrome\")\n",
    "            return\n",
    "    print(\"Palindrome\")\n",
    "\n",
    "    \n",
    "def check_pal2(a):\n",
    "    b=a.copy()\n",
    "    b.reverse()\n",
    "    if(a==b):\n",
    "        print(\"palindrome\")\n",
    "    else:\n",
    "        print(\"Not a palindrome\")\n",
    "        \n",
    "def check_pal3(a):\n",
    "    if(a==a[::-1]):\n",
    "        print(\"palindrome\")\n",
    "    else:\n",
    "        print(\"Not a palindrome\")\n",
    "        \n",
    "        \n",
    "# programm to check if the list contains a palindrom of elements\n",
    "l=[1,2,3,2,1]\n",
    "# use this if you take an input for user \" list(map(int, temp.split(','))) \"\n",
    "print(l)\n",
    "print(l[0])\n",
    "check_pal(l)\n",
    "check_pal2(l)\n",
    "check_pal3(l)\n",
    "\n"
   ]
  },
  {
   "cell_type": "code",
   "execution_count": 22,
   "id": "c81bba40",
   "metadata": {},
   "outputs": [
    {
     "name": "stdout",
     "output_type": "stream",
     "text": [
      "[1, 2, 3]\n",
      "[3, 2, 1]\n"
     ]
    }
   ],
   "source": [
    "a=[1,2,3]\n",
    "print(a)\n",
    "print(a[::-1]) # same as a.reverse()"
   ]
  },
  {
   "cell_type": "markdown",
   "id": "607669de",
   "metadata": {},
   "source": [
    "# Dictionary and sets"
   ]
  },
  {
   "cell_type": "code",
   "execution_count": 23,
   "id": "d436d6f5",
   "metadata": {},
   "outputs": [
    {
     "name": "stdout",
     "output_type": "stream",
     "text": [
      "{'name': 'HB', 'age': 27, 'hobbies': ['eating', 'sleeping']}\n",
      "HB is of type <class 'str'>\n",
      "27 <class 'int'>\n",
      "['eating', 'sleeping'] is of type <class 'list'>\n",
      "{'name': 'HB', 'age': 27, 'hobbies': ['coding', 'running']}\n"
     ]
    }
   ],
   "source": [
    "# Dictionary are unordered, Mutable(Changable) & it dont allow duplicate keys\n",
    "\n",
    "dict = {\n",
    "    \"name\" : \"HB\",\n",
    "    \"age\" : 27,\n",
    "    \"hobbies\" : [\"eating\",\"sleeping\"]\n",
    "}\n",
    "print(dict)\n",
    "print(dict[\"name\"],\"is of type\",type(dict[\"name\"]))\n",
    "print(dict[\"age\"],type(dict[\"age\"]))\n",
    "print(dict[\"hobbies\"],\"is of type\",type(dict[\"hobbies\"]))\n",
    "\n",
    "# Changing the values of dictionaries\n",
    "dict[\"hobbies\"] = [\"coding\", \"running\"]\n",
    "print(dict)"
   ]
  },
  {
   "cell_type": "code",
   "execution_count": 24,
   "id": "f301626d",
   "metadata": {},
   "outputs": [
    {
     "name": "stdout",
     "output_type": "stream",
     "text": [
      "{'name': 'HB', 'score': {'math': 95, 'C/C++': 70, 'python': 100}}\n",
      "{'math': 95, 'C/C++': 70, 'python': 100}\n",
      "100\n"
     ]
    }
   ],
   "source": [
    "#Nested Dictionaries\n",
    "\n",
    "student = {\n",
    "    \"name\" : \"HB\",\n",
    "    \"score\" : {\n",
    "        \"math\" : 95,\n",
    "        \"C/C++\" : 70,\n",
    "        \"python\" : 100\n",
    "    }\n",
    "}\n",
    "print(student)\n",
    "print(student[\"score\"])\n",
    "print(student[\"score\"][\"python\"]) # way to access nested dictionary"
   ]
  },
  {
   "cell_type": "markdown",
   "id": "6595f3a9",
   "metadata": {},
   "source": [
    "# Dictionary Methods\n",
    "\n",
    "### myDict.keys( ) #returns all keys\n",
    "\n",
    "### myDict.values( ) #returns all values\n",
    "\n",
    "### myDict.items( ) #returns all (key, val) pairs as tuples\n",
    "\n",
    "### myDict.get( “key““ ) #returns the valeu according to the key\n",
    "\n",
    "### myDict.update( newDict ) #inserts the specified items to the dictionary"
   ]
  },
  {
   "cell_type": "code",
   "execution_count": 25,
   "id": "2fce4806",
   "metadata": {},
   "outputs": [
    {
     "name": "stdout",
     "output_type": "stream",
     "text": [
      "dict_keys(['name', 'age', 'hobbies'])\n",
      "dict_values(['HB', 27, ['eating', 'sleeping']])\n",
      "dict_items([('name', 'HB'), ('age', 27), ('hobbies', ['eating', 'sleeping'])])\n",
      "Key not found\n",
      "Length of dictionary is 3\n",
      "[('name', 'HB'), ('age', 27), ('hobbies', ['eating', 'sleeping'])] is of type <class 'list'>\n",
      "('name', 'HB')\n",
      "('age', 27)\n",
      "name HB\n",
      "{'name': 'HB', 'age': 27, 'hobbies': ['eating', 'sleeping']}\n",
      "{'name': 'HB', 'age': 27, 'hobbies': ['eating', 'sleeping'], 'city': 'Ghaziabad'}\n"
     ]
    }
   ],
   "source": [
    "dict = {\n",
    "    \"name\" : \"HB\",\n",
    "    \"age\" : 27,\n",
    "    \"hobbies\" : [\"eating\",\"sleeping\"]\n",
    "}\n",
    "\n",
    "print(dict.keys())\n",
    "print(dict.values())\n",
    "print(dict.items())\n",
    "print(dict.get(\"agesss\",\"Key not found\")) # get function prevent error when the key does not exist and allow custom messgae\n",
    "\n",
    "#how to find length of dictionary\n",
    "length = len(dict.keys())\n",
    "print(\"Length of dictionary is\",length)\n",
    "\n",
    "#how to use items fuction\n",
    "temp = list(dict.items())\n",
    "print(temp,\"is of type\",type(temp))\n",
    "print(temp[0]) # it will print a tuple with 2 values ('key','value')\n",
    "print(temp[1])\n",
    "\n",
    "print(temp[0][0],temp[0][1])\n",
    "\n",
    "#using update function [Adding new key:value pair]\n",
    "print(dict)\n",
    "dict.update({\"city\":\"Ghaziabad\"})\n",
    "print(dict)"
   ]
  },
  {
   "cell_type": "code",
   "execution_count": 26,
   "id": "fe636c2c",
   "metadata": {},
   "outputs": [
    {
     "name": "stdout",
     "output_type": "stream",
     "text": [
      "['a piece of furniture', 'list of facts & figure']\n",
      "2\n",
      "a piece of furniture\n",
      "list of facts & figure\n"
     ]
    }
   ],
   "source": [
    "#multiple values to a single key\n",
    "dict = {\n",
    "    \"table\" : [\"a piece of furniture\",\"list of facts & figure\"],\n",
    "    \"cat\" : \"a small animal\"\n",
    "}\n",
    "dict.items()\n",
    "print(dict[\"table\"])\n",
    "print(len(dict[\"table\"]))\n",
    "print(dict[\"table\"][0])\n",
    "print(dict[\"table\"][1])"
   ]
  },
  {
   "cell_type": "code",
   "execution_count": 112,
   "id": "a73c06fd",
   "metadata": {},
   "outputs": [
    {
     "name": "stdout",
     "output_type": "stream",
     "text": [
      "enter chem marks: 54\n",
      "enter math marks: 87\n",
      "enter bio marks: 90\n",
      "{'chem': 54, 'math': 87, 'bio': 90} is of type <class 'dict'>\n"
     ]
    }
   ],
   "source": [
    "#taking input for dictionaries in python\n",
    "dict={}\n",
    "dict = {\n",
    "    \"chem\" : int(input(\"enter chem marks: \")),\n",
    "    \"math\" : int(input(\"enter math marks: \")),\n",
    "    \"bio\" : int(input(\"enter bio marks: \"))\n",
    "}\n",
    "print(dict,\"is of type\",type(dict))"
   ]
  },
  {
   "cell_type": "markdown",
   "id": "e9a0de69",
   "metadata": {},
   "source": [
    "## Sets\n",
    "\n",
    "### Set is the collection of unordered items\n",
    "### Each elements in the set must be unique and immutable [but set is mutable]"
   ]
  },
  {
   "cell_type": "code",
   "execution_count": 28,
   "id": "7eac4348",
   "metadata": {},
   "outputs": [
    {
     "name": "stdout",
     "output_type": "stream",
     "text": [
      "{1, 2, 3, 4} is of type <class 'set'>\n",
      "temp = {1, 2, 4}\n",
      "{1, 2, 4} is of type <class 'set'>\n",
      "<class 'set'>\n"
     ]
    }
   ],
   "source": [
    "collection = {1,2,3,4}\n",
    "print(collection,\"is of type\",type(collection))\n",
    "\n",
    "temp = {1,2,2,4}\n",
    "print(\"temp =\",temp) # any dupicate value will be automatically deleted\n",
    "print(temp,\"is of type\",type(temp))\n",
    "\n",
    "temp2=set() # to create an empty set\n",
    "print(type(temp2))"
   ]
  },
  {
   "cell_type": "markdown",
   "id": "fb267ae2",
   "metadata": {},
   "source": [
    "# Set Methods\n",
    "\n",
    "### set.add( el ) #adds an element\n",
    "\n",
    "### set.remove( el ) #removes the element\n",
    "\n",
    "### set.clear( ) #empties the set\n",
    "\n",
    "### set.pop( ) #removes a random value\n",
    "\n",
    "### set.union( set2 ) #combines both set values & returns new\n",
    "\n",
    "### set.intersection( set2 ) #combines common values & returns new\n",
    "\n",
    "## Note: We cannot add array data type to a set "
   ]
  },
  {
   "cell_type": "code",
   "execution_count": 29,
   "id": "ac4705f7",
   "metadata": {},
   "outputs": [
    {
     "name": "stdout",
     "output_type": "stream",
     "text": [
      "{1, 2, 3}\n",
      "{1, 2, 3, 4}\n",
      "{2, 3}\n"
     ]
    }
   ],
   "source": [
    "a={1,2,3}\n",
    "b={2,3,4}\n",
    "a.union(b)\n",
    "print(a)\n",
    "print(a.union(b))\n",
    "print(a.intersection(b))"
   ]
  },
  {
   "cell_type": "code",
   "execution_count": 30,
   "id": "b6417eac",
   "metadata": {},
   "outputs": [
    {
     "name": "stdout",
     "output_type": "stream",
     "text": [
      "[1, 2, 3, 4, 5, 5, 6, 6]\n",
      "{1, 2, 3, 4, 5, 6}\n"
     ]
    }
   ],
   "source": [
    "# Define a list\n",
    "my_list = [1, 2, 3, 4, 5, 5, 6, 6]\n",
    "print(my_list)\n",
    "\n",
    "# Convert the list to a set\n",
    "my_set = set(my_list)\n",
    "\n",
    "# Print the set\n",
    "print(my_set)"
   ]
  },
  {
   "cell_type": "code",
   "execution_count": 31,
   "id": "7e1e17c7",
   "metadata": {},
   "outputs": [
    {
     "name": "stdout",
     "output_type": "stream",
     "text": [
      "<class 'float'>\n",
      "{9}\n"
     ]
    },
    {
     "data": {
      "text/plain": [
       "\"\\nIn Python, when comparing 9 (integer) and 9.0 (float), \\nthey are treated as equal since both represent the same value.\\nThe set only keeps one of the two since they are considered duplicates.\\nExample:\\n\\nprint(type(float(9.0)))  # Output: <class 'float'>\\n\\ntemp = {9, float(9.0)}   # Set tries to store both 9 and 9.0\\nprint(temp)              # Output: {9}\\n\""
      ]
     },
     "execution_count": 31,
     "metadata": {},
     "output_type": "execute_result"
    }
   ],
   "source": [
    "print(type(float(9.0)))\n",
    "temp ={9,float(9.0)}\n",
    "print(temp)\n",
    "\n",
    "'''\n",
    "In Python, when comparing 9 (integer) and 9.0 (float), \n",
    "they are treated as equal since both represent the same value.\n",
    "The set only keeps one of the two since they are considered duplicates.\n",
    "Example:\n",
    "\n",
    "print(type(float(9.0)))  # Output: <class 'float'>\n",
    "\n",
    "temp = {9, float(9.0)}   # Set tries to store both 9 and 9.0\n",
    "print(temp)              # Output: {9}\n",
    "'''"
   ]
  },
  {
   "cell_type": "markdown",
   "id": "47ffdf38",
   "metadata": {},
   "source": [
    "# While Loop"
   ]
  },
  {
   "cell_type": "code",
   "execution_count": 37,
   "id": "050960cb",
   "metadata": {},
   "outputs": [
    {
     "name": "stdout",
     "output_type": "stream",
     "text": [
      "n = 0 hello\n",
      "n = 1 hello\n",
      "n = 2 hello\n",
      "n = 3 hello\n",
      "n = 4 hello\n"
     ]
    }
   ],
   "source": [
    "n=0\n",
    "while True:\n",
    "    print(\"n =\",n,\"hello\")\n",
    "    if(n==4):\n",
    "        break\n",
    "    n+=1"
   ]
  },
  {
   "cell_type": "markdown",
   "id": "bade79ff",
   "metadata": {},
   "source": [
    "Let‘s Practice\n",
    "\n",
    "1. Print numbers from 1 to 100.\n",
    "2. Print numbers from 100 to 1.\n",
    "3. Print the multiplication table of a number n.\n",
    "\n",
    "4. Print the elements of the following list using a loop:\n",
    "[1, 4, 9, 16, 25, 36, 49, 64, 81,100]\n",
    "\n",
    "5. Search for a number x in this tuple using loop:\n",
    "[1, 4, 9, 16, 25, 36, 49, 64, 81,100]"
   ]
  },
  {
   "cell_type": "code",
   "execution_count": 57,
   "id": "d4ec9f30",
   "metadata": {},
   "outputs": [
    {
     "name": "stdout",
     "output_type": "stream",
     "text": [
      "1 4 9 16 25 36 49 64 81 100 \n",
      "3 6 9 12 15 18 21 24 27 30 \n",
      "25 is found in the tuple(1, 4, 9, 16, 25, 36, 49, 64, 81, 100).\n"
     ]
    }
   ],
   "source": [
    "a=[1, 4, 9, 16, 25, 36, 49, 64, 81,100]\n",
    "n=0\n",
    "\n",
    "while n<len(a):\n",
    "    print(a[n],end=\" \")\n",
    "    n+=1\n",
    "print(\"\")\n",
    "\n",
    "#print table\n",
    "n=1\n",
    "x=3\n",
    "while n<=10:\n",
    "    print(x*n,end=\" \")\n",
    "    n+=1  \n",
    "\n",
    "#find x in the tuple\n",
    "temp=(1, 4, 9, 16, 25, 36, 49, 64, 81,100)\n",
    "n=0\n",
    "found=False\n",
    "x=25\n",
    "while n<len(temp):\n",
    "    if(x==temp[n]):\n",
    "        found=True\n",
    "        break\n",
    "    n+=1\n",
    "if found:\n",
    "    print(f\"\\n{x} is found in the tuple {temp}.\")\n",
    "else:\n",
    "    print(f\"\\n{x} is not found in the tuple {temp}.\")\n",
    "\n",
    "#Note: f in print will allow you to embed expressions inside string literals using curly braces {}"
   ]
  },
  {
   "cell_type": "code",
   "execution_count": 62,
   "id": "db373bbd",
   "metadata": {},
   "outputs": [
    {
     "name": "stdout",
     "output_type": "stream",
     "text": [
      "1 3 5 7 9 11 13 15 17 19 "
     ]
    }
   ],
   "source": [
    "#continue in python will skip the remaining lines below\n",
    "# and jump to the next interation\n",
    "\n",
    "n=0\n",
    "while(n<20):\n",
    "    n+=1\n",
    "    if(n%2==0):\n",
    "        continue\n",
    "    print(n,end=\" \")\n",
    "    "
   ]
  },
  {
   "cell_type": "markdown",
   "id": "0c72a294",
   "metadata": {},
   "source": [
    "# For loop"
   ]
  },
  {
   "cell_type": "code",
   "execution_count": 69,
   "id": "da07b2e0",
   "metadata": {},
   "outputs": [
    {
     "name": "stdout",
     "output_type": "stream",
     "text": [
      "1 2 3 4 End\n",
      "h e l l o   i t s   a   s t r i n g "
     ]
    }
   ],
   "source": [
    "l=[1,2,3,4,]\n",
    "for i in l:\n",
    "    print(i,end=\" \")\n",
    "else:\n",
    "    print(\"End\") # this else is not compulsory\n",
    "    \n",
    "for i in \"hello its a string\":\n",
    "    print(i,end=\" \")"
   ]
  },
  {
   "cell_type": "code",
   "execution_count": 113,
   "id": "8a21fd8e",
   "metadata": {},
   "outputs": [
    {
     "name": "stdout",
     "output_type": "stream",
     "text": [
      "Enter the number to find: 4\n",
      "found 4 in the tuple (1, 4, 9, 16, 25, 36, 49, 64, 81, 100)\n"
     ]
    }
   ],
   "source": [
    "# search a number x in the tuple using for loop\n",
    "a=(1, 4, 9, 16, 25, 36, 49, 64, 81,100)\n",
    "x=int(input(\"Enter the number to find: \"))\n",
    "for i in a:\n",
    "    if(i==x):\n",
    "        print(f\"found {x} in the tuple {a}\")\n",
    "        break\n",
    "else: # this else will only run when the complete \"for loop\" will run without any break\n",
    "    print(f\"{x} not found\")"
   ]
  },
  {
   "cell_type": "code",
   "execution_count": 87,
   "id": "a428a620",
   "metadata": {},
   "outputs": [
    {
     "name": "stdout",
     "output_type": "stream",
     "text": [
      "1 3 5 7 9 11 13 \n",
      "-1 -2 -3 -4 -5 -6 -7 -8 -9 \n",
      "0 1 2 3 4 5 6 7 8 9 "
     ]
    }
   ],
   "source": [
    "for i in range(1,15,2): #<start,end,step_size>\n",
    "    print(i,end=\" \")\n",
    "\n",
    "print(\"\")\n",
    "for i in range(-1,-10,-1): # For loop always exculde stop value but do include start value\n",
    "    print(i,end=\" \")\n",
    "    \n",
    "print(\"\")\n",
    "for i in range(10):\n",
    "    print(i,end=\" \")"
   ]
  },
  {
   "cell_type": "code",
   "execution_count": 114,
   "id": "cd7fcae7",
   "metadata": {},
   "outputs": [
    {
     "name": "stdout",
     "output_type": "stream",
     "text": [
      "Enter a number5\n",
      "120\n"
     ]
    }
   ],
   "source": [
    "#factorial\n",
    "a=int(input(\"Enter a number\"))\n",
    "for i in range(1,a):\n",
    "    a=a*i\n",
    "print(a)"
   ]
  },
  {
   "cell_type": "code",
   "execution_count": 115,
   "id": "67c647b7",
   "metadata": {},
   "outputs": [
    {
     "name": "stdout",
     "output_type": "stream",
     "text": [
      "Enter a number10\n",
      "3628800\n"
     ]
    }
   ],
   "source": [
    "#factorial\n",
    "a=int(input(\"Enter a number\"))\n",
    "n=1\n",
    "fact=1\n",
    "while(n<=a):\n",
    "    fact*=n\n",
    "    n+=1\n",
    "print(fact)"
   ]
  },
  {
   "cell_type": "markdown",
   "id": "a92b5d89",
   "metadata": {},
   "source": [
    "# Functions"
   ]
  },
  {
   "cell_type": "code",
   "execution_count": 102,
   "id": "139bccc2",
   "metadata": {},
   "outputs": [
    {
     "name": "stdout",
     "output_type": "stream",
     "text": [
      "15\n"
     ]
    }
   ],
   "source": [
    "def sum(a,b):\n",
    "    return (a+b)\n",
    "\n",
    "print(sum(10,5))"
   ]
  },
  {
   "cell_type": "raw",
   "id": "c07399b7",
   "metadata": {},
   "source": [
    "# NoneType in python\n",
    "#uses\n",
    "1. Default Return Value for Functions\n",
    "2. Placeholder for Optional Arguments\n",
    "\n",
    "def connect(hostname, port=None):\n",
    "    if port is None:\n",
    "        port = 8080\n",
    "    print(f\"Connecting to {hostname} on port {port}\")\n",
    "\n",
    "connect(\"localhost\")  # Default port 8080 will be used\n",
    "\n",
    "3. Initializing variables\n",
    "4. Representing the end of a list"
   ]
  },
  {
   "cell_type": "code",
   "execution_count": 108,
   "id": "fc33955c",
   "metadata": {},
   "outputs": [
    {
     "name": "stdout",
     "output_type": "stream",
     "text": [
      "10\n",
      "14\n",
      "5\n"
     ]
    },
    {
     "data": {
      "text/plain": [
       "5"
      ]
     },
     "execution_count": 108,
     "metadata": {},
     "output_type": "execute_result"
    }
   ],
   "source": [
    "#default value in function\n",
    "def cal_prod(a=1,b=1):\n",
    "    print(a*b)\n",
    "    return (a*b)\n",
    "\n",
    "cal_prod(10) # by default b is one if not provided\n",
    "cal_prod(2,7)\n",
    "cal_prod(b=5) # directly give value to arguments"
   ]
  },
  {
   "cell_type": "code",
   "execution_count": 111,
   "id": "ab6229d6",
   "metadata": {},
   "outputs": [
    {
     "name": "stdout",
     "output_type": "stream",
     "text": [
      "5\n",
      "4\n",
      "3\n",
      "2\n",
      "1\n"
     ]
    }
   ],
   "source": [
    "def show(n):\n",
    "    if(n==0):\n",
    "        return\n",
    "    print(n)\n",
    "    show(n-1)\n",
    "    \n",
    "show(5)"
   ]
  },
  {
   "cell_type": "code",
   "execution_count": 127,
   "id": "babdc2e5",
   "metadata": {},
   "outputs": [
    {
     "name": "stdout",
     "output_type": "stream",
     "text": [
      "24\n"
     ]
    }
   ],
   "source": [
    "#factorial using recurssion\n",
    "def factorial(n):\n",
    "    if(n==1 or n==0):\n",
    "        return 1\n",
    "    else:\n",
    "        return n*factorial(n-1)\n",
    "\n",
    "print(factorial(4))"
   ]
  },
  {
   "cell_type": "markdown",
   "id": "ec031dac",
   "metadata": {},
   "source": [
    "#sum of (1,n) using recurssion\n",
    "def sum(n):\n",
    "    if(n==1):\n",
    "        return 1\n",
    "    else:\n",
    "        return n+sum(n-1)\n",
    "\n",
    "print(sum(3))"
   ]
  },
  {
   "cell_type": "markdown",
   "id": "fba242b3",
   "metadata": {},
   "source": [
    "# Arrays"
   ]
  },
  {
   "cell_type": "code",
   "execution_count": 3,
   "id": "27b1c34b",
   "metadata": {},
   "outputs": [
    {
     "name": "stdout",
     "output_type": "stream",
     "text": [
      "array('i', [1, 2, 3, 4]) <class 'array.array'>\n"
     ]
    }
   ],
   "source": [
    "import array\n",
    "arr=array.array('i',[1,2,3,4]) # here 'i' specifies integer\n",
    "print(arr,type(arr))"
   ]
  },
  {
   "cell_type": "code",
   "execution_count": 4,
   "id": "87a438e9",
   "metadata": {},
   "outputs": [
    {
     "name": "stdout",
     "output_type": "stream",
     "text": [
      "array('i', [1, 2, 3, 4]) <class 'array.array'>\n"
     ]
    }
   ],
   "source": [
    "import array as ar # give alias to array library\n",
    "arr=ar.array('i',[1,2,3,4]) # here 'i' specifies integer\n",
    "print(arr,type(arr))"
   ]
  },
  {
   "cell_type": "raw",
   "id": "1e95857a",
   "metadata": {},
   "source": [
    "Supported types in the array module:\n",
    "\n",
    "'b': signed char\n",
    "'B': unsigned char\n",
    "'u': Unicode character\n",
    "'h': signed short\n",
    "'H': unsigned short\n",
    "'i': signed int\n",
    "'I': unsigned int\n",
    "'f': float\n",
    "'d': double"
   ]
  },
  {
   "cell_type": "code",
   "execution_count": 27,
   "id": "1af11345",
   "metadata": {},
   "outputs": [
    {
     "name": "stdout",
     "output_type": "stream",
     "text": [
      "2\n",
      "array('i', [3, 2, 1])\n",
      "array('i', [2, 3])\n",
      "1 2 3 \n",
      " array('i', [1, 2, 3, 10])\n",
      "array('i', [1, 2])\n"
     ]
    }
   ],
   "source": [
    "#Operations in Array\n",
    "import array\n",
    "arr = array.array('i', [1, 2, 3])\n",
    "print(arr[1])\n",
    "\n",
    "#slicing array\n",
    "print(arr[::-1])\n",
    "print(arr[1:3])\n",
    "\n",
    "#looping through array\n",
    "for elem in arr:\n",
    "    print(elem,end=\" \")\n",
    "    \n",
    "#adding elements to an array\n",
    "arr.append(10)\n",
    "print(\"\\n\",arr)\n",
    "\n",
    "#deleting elemnts of an array\n",
    "\n",
    "arr.pop()     # Removes last element\n",
    "arr.remove(3) # Removes the first occurrence of 3\n",
    "\n",
    "print(arr)"
   ]
  },
  {
   "attachments": {
    "Screenshot%202024-09-05%20122222.png": {
     "image/png": "[encoded data removed]"
    }
   },
   "cell_type": "markdown",
   "id": "52140f0f",
   "metadata": {},
   "source": [
    "![Screenshot%202024-09-05%20122222.png](attachment:Screenshot%202024-09-05%20122222.png)"
   ]
  },
  {
   "cell_type": "code",
   "execution_count": 29,
   "id": "91ee03e1",
   "metadata": {},
   "outputs": [
    {
     "name": "stdout",
     "output_type": "stream",
     "text": [
      "Merged array: array('i', [1, 2, 3, 4, 5, 6])\n"
     ]
    }
   ],
   "source": [
    "# Merge two arrays\n",
    "import array as arr\n",
    "\n",
    "array1 = arr.array('i', [1, 2, 3])\n",
    "array2 = arr.array('i', [4, 5, 6])\n",
    "merged_array = array1 + array2\n",
    "print(f\"Merged array: {merged_array}\")\n"
   ]
  },
  {
   "cell_type": "code",
   "execution_count": 30,
   "id": "c67f6188",
   "metadata": {},
   "outputs": [
    {
     "name": "stdout",
     "output_type": "stream",
     "text": [
      "Occurrence of 2:  3\n"
     ]
    }
   ],
   "source": [
    "#count the occurence of an element in an array \n",
    "import array as arr\n",
    "\n",
    "my_array = arr.array('i', [1, 2, 3, 4, 2, 2, 5])\n",
    "print(\"Occurrence of 2: \", my_array.count(2))\n"
   ]
  },
  {
   "cell_type": "code",
   "execution_count": 33,
   "id": "fda839ba",
   "metadata": {},
   "outputs": [
    {
     "name": "stdout",
     "output_type": "stream",
     "text": [
      "Original array:  array('i', [4, 2, 5, 1, 3])\n",
      "Sorted array:  array('i', [1, 2, 3, 4, 5])\n"
     ]
    }
   ],
   "source": [
    "#sort an array\n",
    "import array as arr\n",
    "\n",
    "# Create an array\n",
    "my_array = arr.array('i', [4, 2, 5, 1, 3])\n",
    "\n",
    "# Convert the array to a list, sort the list, then convert it back to an array\n",
    "sorted_array = arr.array('i', sorted(my_array))\n",
    "\n",
    "print(\"Original array: \", my_array)\n",
    "print(\"Sorted array: \", sorted_array)\n"
   ]
  },
  {
   "cell_type": "code",
   "execution_count": 39,
   "id": "427edd7b",
   "metadata": {},
   "outputs": [
    {
     "name": "stdout",
     "output_type": "stream",
     "text": [
      "[5, 4, 3, 2, 1]\n"
     ]
    }
   ],
   "source": [
    "import array as arr\n",
    "\n",
    "# Create an array\n",
    "my_array = arr.array('i', [4, 2, 5, 1, 3])\n",
    "print(sorted(my_array,reverse=True))\n",
    "\n",
    "#sorted() will return a list only no matter what the input type was"
   ]
  },
  {
   "attachments": {
    "Screenshot%202024-09-05%20121936.png": {
     "image/png": "[encoded data removed]"
    }
   },
   "cell_type": "markdown",
   "id": "e4bab418",
   "metadata": {},
   "source": [
    "![Screenshot%202024-09-05%20121936.png](attachment:Screenshot%202024-09-05%20121936.png)"
   ]
  },
  {
   "cell_type": "code",
   "execution_count": 41,
   "id": "d9ccef52",
   "metadata": {},
   "outputs": [
    {
     "name": "stdout",
     "output_type": "stream",
     "text": [
      "[1, 2, 3, 4, 5]\n"
     ]
    }
   ],
   "source": [
    "import array as arr\n",
    "\n",
    "# Create an array\n",
    "my_array = arr.array('i', [4, 2, 5, 1, 3])\n",
    "temp=sorted(my_array)\n",
    "print(temp)"
   ]
  },
  {
   "cell_type": "code",
   "execution_count": 94,
   "id": "97812af1",
   "metadata": {},
   "outputs": [
    {
     "name": "stdout",
     "output_type": "stream",
     "text": [
      "[0, 2, 1, 2, 0]\n",
      "[0, 0, 1, 2, 2]\n"
     ]
    }
   ],
   "source": [
    "arr=[0,2,1,2,0]\n",
    "temp=[0]*3\n",
    "for i in arr:\n",
    "    temp[i]+=1\n",
    "print(arr)\n",
    "arr[0:temp[0]]=[0]*(temp[0])\n",
    "arr[temp[0]:temp[0]+temp[1]]=[1]*temp[1]\n",
    "arr[temp[0]+temp[1]:]=[2]*temp[2]\n",
    "print(arr)"
   ]
  },
  {
   "cell_type": "code",
   "execution_count": 69,
   "id": "8ef4829f",
   "metadata": {},
   "outputs": [
    {
     "name": "stdout",
     "output_type": "stream",
     "text": [
      "[-2, -1, -5, -3]\n",
      "[9, 4, 5, 0, 2]\n",
      "0 iteration arr = [9, -2, -2, -1, 5, 0, -5, -3, 2]\n",
      "1 iteration arr = [9, -2, 4, -1, 5, 0, -5, -3, 2]\n",
      "2 iteration arr = [9, -2, 4, -1, 5, -5, -5, -3, 2]\n",
      "3 iteration arr = [9, -2, 4, -1, 5, -5, 0, -3, 2]\n",
      "[9, -2, 4, -1, 5, -5, 0, -3, 2]\n"
     ]
    }
   ],
   "source": [
    "arr= [9, 4, -2, -1, 5, 0, -5, -3, 2]\n",
    "pos=[]\n",
    "neg=[]\n",
    "for i in arr:\n",
    "    if(i<0):\n",
    "        neg.append(i)\n",
    "    else:\n",
    "        pos.append(i)\n",
    "        \n",
    "print(neg)\n",
    "print(pos)\n",
    "for i in range(min(len(pos),len(neg))):\n",
    "    arr[i*2]=pos[i]\n",
    "    arr[i*2+1]=neg[i]\n",
    "    print(f\"{i} iteration arr = {arr}\")\n",
    "        \n",
    "if(len(pos)>len(neg)):\n",
    "    arr[len(neg)*2:] = pos[len(neg):]\n",
    "else:\n",
    "    arr[len(pos)*2:] = neg[len(pos):]\n",
    "    \n",
    "print(arr)"
   ]
  },
  {
   "cell_type": "code",
   "execution_count": 70,
   "id": "e9f9c8cb",
   "metadata": {},
   "outputs": [
    {
     "name": "stdout",
     "output_type": "stream",
     "text": [
      "[9, -2, 4, -1, 5, -5, 0, -3, 2]\n"
     ]
    }
   ],
   "source": [
    "def rearrange_alternate(arr):\n",
    "    # Separate positive and negative numbers\n",
    "    pos = [x for x in arr if x >= 0]  # 0 is considered positive\n",
    "    neg = [x for x in arr if x < 0]\n",
    "\n",
    "    result = []\n",
    "    i, j = 0, 0\n",
    "\n",
    "    # Add elements alternately from positive and negative lists\n",
    "    while i < len(pos) and j < len(neg):\n",
    "        result.append(pos[i])\n",
    "        result.append(neg[j])\n",
    "        i += 1\n",
    "        j += 1\n",
    "\n",
    "    # Append remaining positive or negative elements\n",
    "    result.extend(pos[i:])  # Append remaining positives if any\n",
    "    result.extend(neg[j:])  # Append remaining negatives if any\n",
    "\n",
    "    return result\n",
    "\n",
    "# Example usage:\n",
    "arr = [9, 4, -2, -1, 5, 0, -5, -3, 2]\n",
    "output = rearrange_alternate(arr)\n",
    "print(output)\n"
   ]
  },
  {
   "cell_type": "code",
   "execution_count": 72,
   "id": "fa66b43e",
   "metadata": {},
   "outputs": [
    {
     "name": "stdout",
     "output_type": "stream",
     "text": [
      "[9, 4, 5, 0, 2]\n"
     ]
    }
   ],
   "source": [
    "arr = [9, 4, -2, -1, 5, 0, -5, -3, 2]\n",
    "pos = [x for x in arr if x >= 0]  #Fastest method to filter elemts from an list\n",
    "print(pos)"
   ]
  },
  {
   "cell_type": "markdown",
   "id": "3445029c",
   "metadata": {},
   "source": [
    "### `extend()`\n",
    "\n",
    "- **Usage**: `list1.extend(iterable)`\n",
    "- **Modifies the Original List**: `extend()` modifies the list in place by adding elements \n",
    "    from the iterable to the end of the list.\n",
    "- **Does Not Return a New List**: It returns `None`.\n",
    "- **Efficiency**: `extend()` is generally more efficient when you need to add elements to an existing list\n",
    "    especially when working with large lists or iterables.\n",
    "\n",
    "**Example**:\n",
    "```python\n",
    "list1 = [1, 2, 3]\n",
    "list2 = [4, 5, 6]\n",
    "list1.extend(list2)\n",
    "print(list1)  # Output: [1, 2, 3, 4, 5, 6]\n",
    "```\n",
    "\n",
    "### `+` Operator\n",
    "\n",
    "- **Usage**: `list1 + list2`\n",
    "- **Creates a New List**: The `+` operator creates a new list that is the concatenation of `list1` and `list2`.\n",
    "- **Returns a New List**: The result is a new list with elements from both lists.\n",
    "- **Efficiency**: Using `+` results in the creation of a new list, \n",
    "    which may be less efficient compared to `extend()` when working with large lists.\n",
    "\n",
    "**Example**:\n",
    "```python\n",
    "list1 = [1, 2, 3]\n",
    "list2 = [4, 5, 6]\n",
    "result = list1 + list2\n",
    "print(result)  # Output: [1, 2, 3, 4, 5, 6]\n",
    "```\n",
    "\n",
    "### Key Differences:\n",
    "\n",
    "1. **Modification vs. New List**:\n",
    "   - `extend()` modifies the original list.\n",
    "   - `+` creates a new list without modifying the original lists.\n",
    "\n",
    "2. **Return Value**:\n",
    "   - `extend()` returns `None`.\n",
    "   - `+` returns a new list that is the result of the concatenation.\n",
    "\n",
    "3. **Use Cases**:\n",
    "   - Use `extend()` when you want to add elements to an existing list and modify it in place.\n",
    "   - Use `+` when you need to create a new list that combines elements from multiple lists.\n",
    "\n",
    "### Summary\n",
    "\n",
    "- **`extend()`** is used when you want to modify the original list by appending elements from another iterable.\n",
    "- **`+`** is used to concatenate lists and create a new list, leaving the original lists unchanged.\n",
    "\n",
    "Choosing between them depends on whether you need to modify an existing list or create a new one."
   ]
  },
  {
   "cell_type": "code",
   "execution_count": 75,
   "id": "d05917f9",
   "metadata": {},
   "outputs": [
    {
     "name": "stdout",
     "output_type": "stream",
     "text": [
      "[1, 2, 3, 4, 5] <class 'list'>\n",
      "array('i', [1, 2, 3, 4, 5])\n"
     ]
    }
   ],
   "source": [
    "# Convert List to array using the arrya module\n",
    "\n",
    "import array\n",
    "\n",
    "# Example list\n",
    "my_list = [1, 2, 3, 4, 5]\n",
    "print(my_list,type(my_list))\n",
    "\n",
    "# Convert list to array\n",
    "# 'i' is the type code for integers. You can use other type codes for different data types.\n",
    "my_array = array.array('i', my_list)\n",
    "\n",
    "print(my_array)  # Output: array('i', [1, 2, 3, 4, 5])\n"
   ]
  },
  {
   "cell_type": "code",
   "execution_count": 81,
   "id": "f0389ae8",
   "metadata": {},
   "outputs": [
    {
     "name": "stdout",
     "output_type": "stream",
     "text": [
      "[3, 9, 8, 7, 6, 4, 2, 1]\n",
      "array('i', [3, 9, 8, 7, 6, 4, 2, 1])\n"
     ]
    }
   ],
   "source": [
    "arr = [9, 8, 7, 6, 4, 2, 1, 3]\n",
    "temp[0]=arr[-1]\n",
    "temp[1:]=arr[0:len(arr)-1]\n",
    "print(temp)\n",
    "arr = array.array('i', temp)\n",
    "print(arr)"
   ]
  },
  {
   "cell_type": "code",
   "execution_count": null,
   "id": "636dcf23",
   "metadata": {},
   "outputs": [],
   "source": [
    "class Solution:\n",
    "    import array\n",
    "    def rotate(self, arr):\n",
    "        if len(arr)==0:\n",
    "            return arr\n",
    "        last=arr.pop()\n",
    "        arr.insert(0,last)"
   ]
  }
 ],
 "metadata": {
  "kernelspec": {
   "display_name": "Python 3",
   "language": "python",
   "name": "python3"
  },
  "language_info": {
   "codemirror_mode": {
    "name": "ipython",
    "version": 3
   },
   "file_extension": ".py",
   "mimetype": "text/x-python",
   "name": "python",
   "nbconvert_exporter": "python",
   "pygments_lexer": "ipython3",
   "version": "3.8.8"
  }
 },
 "nbformat": 4,
 "nbformat_minor": 5
}
