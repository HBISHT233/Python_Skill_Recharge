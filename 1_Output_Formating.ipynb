{
 "cells": [
  {
   "cell_type": "markdown",
   "id": "c688fde9-faad-4198-973a-c2783a790480",
   "metadata": {},
   "source": [
    "## Using f-strings (Python 3.6+)"
   ]
  },
  {
   "cell_type": "code",
   "execution_count": 1,
   "id": "6d91cacc-7d23-4ba5-bb97-0a1ba6c3d81c",
   "metadata": {},
   "outputs": [
    {
     "name": "stdout",
     "output_type": "stream",
     "text": [
      "My name is Alice and I am 30 years old.\n"
     ]
    }
   ],
   "source": [
    "name = \"Alice\"\n",
    "age = 30\n",
    "print(f\"My name is {name} and I am {age} years old.\")"
   ]
  },
  {
   "cell_type": "markdown",
   "id": "8576ed0a-0828-4c77-a917-383f7b505c20",
   "metadata": {},
   "source": [
    "## Using format() method"
   ]
  },
  {
   "cell_type": "code",
   "execution_count": 3,
   "id": "6bb337f9-c04e-445c-ab61-18f0938baf49",
   "metadata": {},
   "outputs": [
    {
     "name": "stdout",
     "output_type": "stream",
     "text": [
      "My name is Alice and I am 30 years old.\n"
     ]
    }
   ],
   "source": [
    "\n",
    "name = \"Alice\"\n",
    "age = 30\n",
    "print(\"My name is {} and I am {} years old.\".format(name, age))"
   ]
  },
  {
   "cell_type": "markdown",
   "id": "59325f9a-32a6-42bd-aa45-e642f2bfe345",
   "metadata": {},
   "source": [
    "## Using string concatenation"
   ]
  },
  {
   "cell_type": "code",
   "execution_count": 15,
   "id": "2846ea40-6297-44a1-8864-5a6cad2992dc",
   "metadata": {},
   "outputs": [
    {
     "name": "stdout",
     "output_type": "stream",
     "text": [
      "My name is Alice and I am 30 years old.\n"
     ]
    }
   ],
   "source": [
    "name = \"Alice\"\n",
    "age = 30\n",
    "print(\"My name is \" + name + \" and I am \" + str(age) + \" years old.\")"
   ]
  },
  {
   "cell_type": "markdown",
   "id": "2ed14a6f-de61-4180-933a-0b4ff99d1ee7",
   "metadata": {},
   "source": [
    "## Using % formatting (old method)"
   ]
  },
  {
   "cell_type": "code",
   "execution_count": 18,
   "id": "69cdf135-21c8-4087-a733-826ce47d8ac2",
   "metadata": {},
   "outputs": [
    {
     "name": "stdout",
     "output_type": "stream",
     "text": [
      "My name is Alice and I am 30 years old.\n"
     ]
    }
   ],
   "source": [
    "name = \"Alice\"\n",
    "age = 30\n",
    "print(\"My name is %s and I am %d years old.\" % (name, age))"
   ]
  },
  {
   "cell_type": "markdown",
   "id": "c6495c67-a87a-487c-8b72-16d5cbb89887",
   "metadata": {},
   "source": [
    "## Formatting Tricks for printing number"
   ]
  },
  {
   "cell_type": "code",
   "execution_count": 21,
   "id": "bc13d03c-9d48-428f-9c33-6799a8c4cfbe",
   "metadata": {},
   "outputs": [
    {
     "name": "stdout",
     "output_type": "stream",
     "text": [
      "3.14\n"
     ]
    }
   ],
   "source": [
    "# Using F-method\n",
    "number = 3.14159\n",
    "formatted_number = f\"{number:.2f}\"\n",
    "print(formatted_number)  # Output: 3.14"
   ]
  },
  {
   "cell_type": "code",
   "execution_count": null,
   "id": "88aadf59-5c6d-419d-8430-f3c12c57a039",
   "metadata": {},
   "outputs": [],
   "source": [
    "# Using Format method\n",
    "number = 3.14159\n",
    "formatted_number = \"{:.2f}\".format(number)\n",
    "print(formatted_number)  # Output: 3.14"
   ]
  },
  {
   "cell_type": "markdown",
   "id": "d6fc9d23-5c74-4ad8-9bf2-54d25cc20ee3",
   "metadata": {},
   "source": [
    "The format specifier `\".2f\"` and `\"02\"` serve different purposes in Python:\n",
    "\n",
    "1. **`\".2f\"`**: This ensures the number is displayed with two decimal places.\n",
    "   - Example: \n",
    "     ```python\n",
    "     num = 3.14159\n",
    "     print(f\"{num:.2f}\")  # Output: 3.14\n",
    "     ```\n",
    "\n",
    "2. **`\"02\"`**: This ensures the number is at least two digits long, padding with zeros if necessary, but it works with integers.\n",
    "   - Example: \n",
    "     ```python\n",
    "     num = 5\n",
    "     print(f\"{num:02}\")  # Output: 05\n",
    "     ```\n",
    "\n",
    "They differ in usage for floating-point vs. integer formatting."
   ]
  },
  {
   "cell_type": "markdown",
   "id": "08032a32-4fe6-4770-85e7-9d83d86883ff",
   "metadata": {},
   "source": [
    "Here's how you can use the `.format()` method to achieve the same behavior as `.2f` and `02` in Python:\n",
    "\n",
    "1. **For `.2f` (two decimal places):**\n",
    "   ```python\n",
    "   num = 3.14159\n",
    "   print(\"{:.2f}\".format(num))  # Output: 3.14\n",
    "   ```\n",
    "\n",
    "2. **For `02` (two digits with zero padding):**\n",
    "   ```python\n",
    "   num = 5\n",
    "   print(\"{:02}\".format(num))  # Output: 05\n",
    "   ```\n",
    "\n",
    "In both cases, the `format()` method works similarly to f-strings but can be useful in versions before Python 3.6."
   ]
  }
 ],
 "metadata": {
  "kernelspec": {
   "display_name": "Python 3 (ipykernel)",
   "language": "python",
   "name": "python3"
  },
  "language_info": {
   "codemirror_mode": {
    "name": "ipython",
    "version": 3
   },
   "file_extension": ".py",
   "mimetype": "text/x-python",
   "name": "python",
   "nbconvert_exporter": "python",
   "pygments_lexer": "ipython3",
   "version": "3.12.4"
  }
 },
 "nbformat": 4,
 "nbformat_minor": 5
}
