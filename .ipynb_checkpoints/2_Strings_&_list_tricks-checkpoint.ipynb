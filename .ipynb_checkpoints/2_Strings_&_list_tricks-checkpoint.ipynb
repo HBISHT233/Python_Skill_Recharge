{
 "cells": [
  {
   "cell_type": "markdown",
   "id": "c004001b-e6e0-4df1-a8cf-3b31b6098d5b",
   "metadata": {},
   "source": [
    "In Python, the `split()` function is used to divide a string into a list, based on a specified delimiter (separator). By default, it splits the string at every whitespace (spaces, tabs, or newlines).\n",
    "\n",
    "### Basic syntax:\n",
    "```python\n",
    "string.split(separator, maxsplit)\n",
    "```\n",
    "- `separator`: Specifies the delimiter at which the string will be split. Default is any whitespace.\n",
    "- `maxsplit`: Defines the maximum number of splits. Default is `-1`, which means no limit.\n",
    "\n",
    "### Example:\n",
    "```python\n",
    "text = \"apple orange banana\"\n",
    "words = text.split()   # Output: ['apple', 'orange', 'banana']\n",
    "```"
   ]
  },
  {
   "cell_type": "markdown",
   "id": "6e21cf55-cf88-4b88-af90-1e5773b9efe1",
   "metadata": {},
   "source": [
    "## Character string into char list"
   ]
  },
  {
   "cell_type": "code",
   "execution_count": 9,
   "id": "64f4f705-b1a6-48f6-8445-671b01028032",
   "metadata": {},
   "outputs": [
    {
     "name": "stdout",
     "output_type": "stream",
     "text": [
      "['a', 'b', 'c', 'd', 'e', 'f', 'g', 'h', 'g', 'i', 'j', 'k', 'l', 'm', 'n', 'o', 'p', 'q', 'r', 's', 't', 'u', 'v', 'w', 'x', 'y', 'z']\n"
     ]
    }
   ],
   "source": [
    "a=\"abcdefghgijklmnopqrstuvwxyz\"\n",
    "alpha = list(a)\n",
    "print(alpha)"
   ]
  },
  {
   "cell_type": "markdown",
   "id": "a7cccbbb-6076-4234-8fa3-692d4636a7fc",
   "metadata": {},
   "source": [
    "## Integer string to integer list"
   ]
  },
  {
   "cell_type": "code",
   "execution_count": 17,
   "id": "74b63568-1e78-49a2-b3a3-0c793ecf9c75",
   "metadata": {},
   "outputs": [
    {
     "name": "stdout",
     "output_type": "stream",
     "text": [
      "[1, 2, 3, 4, 5, 6, 7, 8, 9]\n"
     ]
    }
   ],
   "source": [
    "a=\"123456789\"\n",
    "num=[int(ch) for ch in a]\n",
    "print(num)"
   ]
  },
  {
   "cell_type": "markdown",
   "id": "997f674a-9488-490a-a5e2-a45a19f8a153",
   "metadata": {},
   "source": [
    "## Linearly spaced character string to int list"
   ]
  },
  {
   "cell_type": "code",
   "execution_count": 24,
   "id": "b446e5d0-fdba-4da6-8325-862c5cb1687f",
   "metadata": {},
   "outputs": [
    {
     "name": "stdout",
     "output_type": "stream",
     "text": [
      "[1, 2, 3, 4, 5, 6, 7, 8, 9, 10]\n"
     ]
    }
   ],
   "source": [
    "a=\"1 2 3 4 5 6 7 8 9 10\"\n",
    "num=list(map(int,a.split()))\n",
    "print(num)"
   ]
  },
  {
   "cell_type": "markdown",
   "id": "efa13b5a-3f8d-43d3-894b-4d9ab0c7d933",
   "metadata": {},
   "source": [
    "## Operations on list elements using map function"
   ]
  },
  {
   "cell_type": "code",
   "execution_count": 28,
   "id": "4d3cbbf7-cde5-475f-98db-0b68e2f518e5",
   "metadata": {},
   "outputs": [
    {
     "name": "stdout",
     "output_type": "stream",
     "text": [
      "[3, 6, 9, 12, 15]\n"
     ]
    }
   ],
   "source": [
    "numbers = [1, 2, 3, 4, 5]\n",
    "new = list(map(lambda x:x*3, numbers ))\n",
    "print(new)"
   ]
  },
  {
   "cell_type": "code",
   "execution_count": 54,
   "id": "bec336f7-52bb-45fa-9ef9-a2dd9d5bb6f9",
   "metadata": {},
   "outputs": [
    {
     "name": "stdout",
     "output_type": "stream",
     "text": [
      "['aaa', 'bbb', 'ccc']\n"
     ]
    }
   ],
   "source": [
    "char = ['a','b','c']\n",
    "new = list(map(lambda x: x*3,char))\n",
    "print(new)"
   ]
  },
  {
   "cell_type": "markdown",
   "id": "a5809c9c-cd7a-4e15-92a1-a651c03d508a",
   "metadata": {},
   "source": [
    "A `lambda` function in Python is an anonymous function defined using the `lambda` keyword. It's a concise way to create small, one-line functions without formally defining them using the `def` keyword. \n",
    "\n",
    "Here’s an example:\n",
    "\n",
    "```python\n",
    "# A lambda function to add two numbers\n",
    "add = lambda x, y: x + y\n",
    "\n",
    "print(add(3, 5))  # Output: 8\n",
    "```\n",
    "\n",
    "Lambda functions are often used in combination with functions like `map()`, `filter()`, and `sorted()`."
   ]
  },
  {
   "cell_type": "markdown",
   "id": "dea9d7cf-a288-4212-8e6e-de505522e5c0",
   "metadata": {},
   "source": [
    "## Repeat each charcaters of string n times"
   ]
  },
  {
   "cell_type": "code",
   "execution_count": 45,
   "id": "8def4ae6-6224-4715-9acc-ded23d6bdb98",
   "metadata": {},
   "outputs": [
    {
     "name": "stdout",
     "output_type": "stream",
     "text": [
      "aabbcc\n"
     ]
    }
   ],
   "source": [
    "string = \"abc\"\n",
    "new = ''.join([char*2 for char in string])\n",
    "print(new)"
   ]
  },
  {
   "cell_type": "markdown",
   "id": "ce48a035-4bbd-43d1-ad1d-28af1fa07a4f",
   "metadata": {},
   "source": [
    "The `join()` method in Python is used to concatenate elements of an iterable (like a list or tuple) into a single string, using a specified separator. The syntax is:\n",
    "\n",
    "```python\n",
    "separator.join(iterable)\n",
    "```\n",
    "\n",
    "### Key Points:\n",
    "- **Separator**: A string that acts as the delimiter (e.g., `\", \"` or `\"-\"`).\n",
    "- **Iterable**: Typically a list or tuple containing strings. Non-string elements will raise a `TypeError`.\n",
    "- **Returns**: A new string resulting from the concatenation.\n",
    "\n",
    "### Example:\n",
    "```python\n",
    "words = ['Hello', 'World']\n",
    "result = ' '.join(words)\n",
    "print(result)  # Output: \"Hello World\"\n",
    "```\n",
    "\n",
    "For more detailed information, you can check the [Python documentation](https://docs.python.org/3/library/stdtypes.html#str.join)."
   ]
  },
  {
   "cell_type": "markdown",
   "id": "f6e3eeac-9aa3-4ba7-a2d9-244e8541aeef",
   "metadata": {},
   "source": [
    "## Remove repeated character in a string without changing the order"
   ]
  },
  {
   "cell_type": "code",
   "execution_count": 58,
   "id": "72a3ecf2-03a9-46ca-874a-343207d3c40d",
   "metadata": {},
   "outputs": [
    {
     "name": "stdout",
     "output_type": "stream",
     "text": [
      "ABCDE\n"
     ]
    }
   ],
   "source": [
    "string = \"AAABBBCDDEEEE\"\n",
    "seen=set()\n",
    "new =\"\"\n",
    "for ch in string:\n",
    "    if ch not in seen:\n",
    "        new+=ch\n",
    "        seen.add(ch)\n",
    "print(new)"
   ]
  },
  {
   "cell_type": "markdown",
   "id": "f8459261-c9cc-48f1-9e06-2b82c41aca72",
   "metadata": {},
   "source": [
    "## find the 2nd largest in an int List"
   ]
  },
  {
   "cell_type": "code",
   "execution_count": 65,
   "id": "f59ff692-e401-4ecc-8812-af4741ad6c61",
   "metadata": {},
   "outputs": [
    {
     "name": "stdout",
     "output_type": "stream",
     "text": [
      "2nd largest number is 3\n"
     ]
    }
   ],
   "source": [
    "nums = [1, 1, 2, 2, 3, 4, 4, 4]\n",
    "m=max(nums)\n",
    "while max(nums) == m:\n",
    "    nums.remove(max(nums))\n",
    "print(f\"2nd largest number is {max(nums)}\")"
   ]
  },
  {
   "cell_type": "markdown",
   "id": "587464d0-eaee-454e-9ad7-f29dd5f55bd1",
   "metadata": {},
   "source": [
    "## Find the 2nd smallest in a int List"
   ]
  },
  {
   "cell_type": "code",
   "execution_count": 69,
   "id": "9d53f6f8-1250-4146-b843-40dfba3d197f",
   "metadata": {},
   "outputs": [
    {
     "name": "stdout",
     "output_type": "stream",
     "text": [
      "2nd smallest number is 2\n"
     ]
    }
   ],
   "source": [
    "nums = [1, 1, 2, 2, 3, 4, 4, 4]\n",
    "n=min(nums)\n",
    "while min(nums)==n:\n",
    "    nums.remove(min(nums))\n",
    "print(f\"2nd smallest number is {min(nums)}\")"
   ]
  }
 ],
 "metadata": {
  "kernelspec": {
   "display_name": "Python 3 (ipykernel)",
   "language": "python",
   "name": "python3"
  },
  "language_info": {
   "codemirror_mode": {
    "name": "ipython",
    "version": 3
   },
   "file_extension": ".py",
   "mimetype": "text/x-python",
   "name": "python",
   "nbconvert_exporter": "python",
   "pygments_lexer": "ipython3",
   "version": "3.12.4"
  }
 },
 "nbformat": 4,
 "nbformat_minor": 5
}
